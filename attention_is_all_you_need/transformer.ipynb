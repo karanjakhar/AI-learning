{
 "cells": [
  {
   "cell_type": "code",
   "execution_count": 3,
   "metadata": {},
   "outputs": [],
   "source": [
    "import torch\n",
    "from torch import nn\n",
    "import numpy as np\n",
    "import pandas as pd"
   ]
  },
  {
   "cell_type": "code",
   "execution_count": 4,
   "metadata": {},
   "outputs": [],
   "source": [
    "companies_df = pd.read_csv('companies_sorted.csv')"
   ]
  },
  {
   "cell_type": "code",
   "execution_count": 5,
   "metadata": {},
   "outputs": [
    {
     "data": {
      "text/html": [
       "<div>\n",
       "<style scoped>\n",
       "    .dataframe tbody tr th:only-of-type {\n",
       "        vertical-align: middle;\n",
       "    }\n",
       "\n",
       "    .dataframe tbody tr th {\n",
       "        vertical-align: top;\n",
       "    }\n",
       "\n",
       "    .dataframe thead th {\n",
       "        text-align: right;\n",
       "    }\n",
       "</style>\n",
       "<table border=\"1\" class=\"dataframe\">\n",
       "  <thead>\n",
       "    <tr style=\"text-align: right;\">\n",
       "      <th></th>\n",
       "      <th>Unnamed: 0</th>\n",
       "      <th>name</th>\n",
       "      <th>domain</th>\n",
       "      <th>year founded</th>\n",
       "      <th>industry</th>\n",
       "      <th>size range</th>\n",
       "      <th>locality</th>\n",
       "      <th>country</th>\n",
       "      <th>linkedin url</th>\n",
       "      <th>current employee estimate</th>\n",
       "      <th>total employee estimate</th>\n",
       "    </tr>\n",
       "  </thead>\n",
       "  <tbody>\n",
       "    <tr>\n",
       "      <th>0</th>\n",
       "      <td>5872184</td>\n",
       "      <td>ibm</td>\n",
       "      <td>ibm.com</td>\n",
       "      <td>1911.0</td>\n",
       "      <td>information technology and services</td>\n",
       "      <td>10001+</td>\n",
       "      <td>new york, new york, united states</td>\n",
       "      <td>united states</td>\n",
       "      <td>linkedin.com/company/ibm</td>\n",
       "      <td>274047</td>\n",
       "      <td>716906</td>\n",
       "    </tr>\n",
       "    <tr>\n",
       "      <th>1</th>\n",
       "      <td>4425416</td>\n",
       "      <td>tata consultancy services</td>\n",
       "      <td>tcs.com</td>\n",
       "      <td>1968.0</td>\n",
       "      <td>information technology and services</td>\n",
       "      <td>10001+</td>\n",
       "      <td>bombay, maharashtra, india</td>\n",
       "      <td>india</td>\n",
       "      <td>linkedin.com/company/tata-consultancy-services</td>\n",
       "      <td>190771</td>\n",
       "      <td>341369</td>\n",
       "    </tr>\n",
       "    <tr>\n",
       "      <th>2</th>\n",
       "      <td>21074</td>\n",
       "      <td>accenture</td>\n",
       "      <td>accenture.com</td>\n",
       "      <td>1989.0</td>\n",
       "      <td>information technology and services</td>\n",
       "      <td>10001+</td>\n",
       "      <td>dublin, dublin, ireland</td>\n",
       "      <td>ireland</td>\n",
       "      <td>linkedin.com/company/accenture</td>\n",
       "      <td>190689</td>\n",
       "      <td>455768</td>\n",
       "    </tr>\n",
       "    <tr>\n",
       "      <th>3</th>\n",
       "      <td>2309813</td>\n",
       "      <td>us army</td>\n",
       "      <td>goarmy.com</td>\n",
       "      <td>1800.0</td>\n",
       "      <td>military</td>\n",
       "      <td>10001+</td>\n",
       "      <td>alexandria, virginia, united states</td>\n",
       "      <td>united states</td>\n",
       "      <td>linkedin.com/company/us-army</td>\n",
       "      <td>162163</td>\n",
       "      <td>445958</td>\n",
       "    </tr>\n",
       "    <tr>\n",
       "      <th>4</th>\n",
       "      <td>1558607</td>\n",
       "      <td>ey</td>\n",
       "      <td>ey.com</td>\n",
       "      <td>1989.0</td>\n",
       "      <td>accounting</td>\n",
       "      <td>10001+</td>\n",
       "      <td>london, greater london, united kingdom</td>\n",
       "      <td>united kingdom</td>\n",
       "      <td>linkedin.com/company/ernstandyoung</td>\n",
       "      <td>158363</td>\n",
       "      <td>428960</td>\n",
       "    </tr>\n",
       "  </tbody>\n",
       "</table>\n",
       "</div>"
      ],
      "text/plain": [
       "   Unnamed: 0                       name         domain  year founded  \\\n",
       "0     5872184                        ibm        ibm.com        1911.0   \n",
       "1     4425416  tata consultancy services        tcs.com        1968.0   \n",
       "2       21074                  accenture  accenture.com        1989.0   \n",
       "3     2309813                    us army     goarmy.com        1800.0   \n",
       "4     1558607                         ey         ey.com        1989.0   \n",
       "\n",
       "                              industry size range  \\\n",
       "0  information technology and services     10001+   \n",
       "1  information technology and services     10001+   \n",
       "2  information technology and services     10001+   \n",
       "3                             military     10001+   \n",
       "4                           accounting     10001+   \n",
       "\n",
       "                                 locality         country  \\\n",
       "0       new york, new york, united states   united states   \n",
       "1              bombay, maharashtra, india           india   \n",
       "2                 dublin, dublin, ireland         ireland   \n",
       "3     alexandria, virginia, united states   united states   \n",
       "4  london, greater london, united kingdom  united kingdom   \n",
       "\n",
       "                                     linkedin url  current employee estimate  \\\n",
       "0                        linkedin.com/company/ibm                     274047   \n",
       "1  linkedin.com/company/tata-consultancy-services                     190771   \n",
       "2                  linkedin.com/company/accenture                     190689   \n",
       "3                    linkedin.com/company/us-army                     162163   \n",
       "4              linkedin.com/company/ernstandyoung                     158363   \n",
       "\n",
       "   total employee estimate  \n",
       "0                   716906  \n",
       "1                   341369  \n",
       "2                   455768  \n",
       "3                   445958  \n",
       "4                   428960  "
      ]
     },
     "execution_count": 5,
     "metadata": {},
     "output_type": "execute_result"
    }
   ],
   "source": [
    "companies_df.head()"
   ]
  },
  {
   "cell_type": "code",
   "execution_count": null,
   "metadata": {},
   "outputs": [],
   "source": [
    "#companies_df['name'][:1000].to_csv('companies_names_list.csv', index=False)"
   ]
  },
  {
   "cell_type": "code",
   "execution_count": 9,
   "metadata": {},
   "outputs": [],
   "source": [
    "company_names = companies_df['name'][:1000].to_list()"
   ]
  },
  {
   "cell_type": "code",
   "execution_count": 10,
   "metadata": {},
   "outputs": [
    {
     "data": {
      "text/plain": [
       "1000"
      ]
     },
     "execution_count": 10,
     "metadata": {},
     "output_type": "execute_result"
    }
   ],
   "source": [
    "len(company_names)"
   ]
  },
  {
   "cell_type": "code",
   "execution_count": 39,
   "metadata": {},
   "outputs": [
    {
     "name": "stdout",
     "output_type": "stream",
     "text": [
      "ibm tata consultancy services accenture us army ey hewlett-packard cognizant technology solutions walmart microsoft at&t united states air force pwc wells fargo infosys deloitte citi bank of america jpmorgan chase & co. us navy amazon apple siemens oracle nokia education nationale capgemini wipro technologies hsbc google united states postal service mcdonald's corporation ericsson nhs boeing vodafone kaiser permanente ford motor company intel corporation department of veterans affairs cisco general motors pepsico target shell hcl technologies ups pfizer unilever nestlé unitedhealth group huawei technologies dell gsk honeywell sap schlumberger lockheed martin ayatama energi, trisco nusantara abb american center of krasnodar starbucks promobroker agente de seguros y de fianzas s a de c v morgan stanley the home depot independiente novartis johnson & johnson bp schneider electric state farm secretaría de educación pública dhl my home td ge philips ubs procter & gamble walgreens keller williams realty, inc. lowe's companies, inc. verbum traducción y edición united states marine corps dell emc tech mahindra verizon wireless sanofi bnp paribas sodexo deutsche bank tencent j.p. morgan verizon l'oréal kpmg orange linkedin barclays facebook northrop grumman corporation fca fiat chrysler automobiles adp medtronic abbott chevron roche american express samsung electronics macy's thomson reuters ministerio de educación avon cgi cvs health halliburton atos pcs informatica ge healthcare csc merck kpmg banco santander scotiabank dxc technology johnson controls posteamos.com allstate petrobras credit suisse telefónica marriott international axa 3m health care standard chartered bank xerox cbre nyc department of education goldman sachs fidelity investments icici bank exxonmobil t-mobile aon royal bank of scotland astrazeneca nike basf hdfc bank best buy american airlines baker hughes the coca-cola company genpact jll rbc u.s. bank larsen & toubro continental pnc sprint saudi aramco g4s airbus capital one delta air lines carrefour ninguna merrill lynch mondelēz international bt h&m anz farmers insurance aecom united states department of defense metlife total ikea group cargill bae systems united airlines lavoratore indipendente mary kay inc. liberty mutual insurance comcast caterpillar inc. jacobs bny mellon raytheon société générale eli lilly and company hp eskom school uber lloyds banking group kroger thermo fisher scientific renault nhs trust willis towers watson hospital universitario josep trueta aig state bank of india fedex express novo nordisk mynet vale itaú unibanco h&r block sncf social security administration bright futures, a college and career management company costco wholesale thales convergys ministry of education tesco plc iqvia salesforce edf prefeitura municipal the dow chemical company forza silicon hilton worldwide los angeles unified school district army national guard nordstrom lifespan fedex edward jones particular travelers fresher boehringer ingelheim state street private the walt disney company nielsen emirates lg electronics bombardier herbalife northwestern mutual valeo eaton aflac united nations flextronics standard bank group subway mayo clinic booz allen hamilton allianz telstra qualcomm john deere aetna enterprise rent-a-car bristol-myers squibb alberta health services us department of homeland security commonwealth bank new york life insurance company siemens healthcare cibc adidas weatherford fluor corporation pemex sopra steria hca bmw group dupont nessuna azienda sears holdings corporation cleveland clinic lafargeholcim kohl's department stores humana primerica axis bank coldwell banker residential brokerage bayer fujitsu faa bbva university of michigan banco do brasil fis foxconn intercontinental hotels group (ihg®) ge power epam systems pearson national australia bank reliance jcpenney imss bradesco boston scientific stay at home mom lenovo nationwide insurance nissan motor corporation amazon web services philip morris international alstom cummins inc. centurylink psa peugeot citroën european commission amgen abn amro bank n.v. cvs pharmacy trw ncr corporation akzonobel amdocs abbvie arcelormittal free lance jaguar land rover autônoma sgs wipro infotech aramark ministero istruzione, universita' e ricerca samsung kuehne + nagel cerner corporation mckinsey & company kimberly-clark caixa economica federal biocolloids fate and transport in environmental systems, network biomet agilent technologies upwork whole foods market comcast cable indra southwest airlines mid managing international diffusion stryker international mission of mercy (imm) british american tobacco nordea bank of america merrill lynch publix super markets own businees youtube u.s. department of state \"cecaci\"  centro de capacitacion comercial e industrial mars lic sabic bsnl danone usaa chicago public schools le groupe la poste bmo financial group fresenius medical care cushman & wakefield ing rolls-royce cigna ymca prudential financial saipem bosch rodan + fields rr donnelley vmware university of washington penn state university texas instruments michelin baxter international inc. sakri it solutions pvt ltd rabobank cardinal health amway adecco bb&t saic bureau veritas faurecia sas indite technologies mahindra satyam coldwell banker orange business services monsanto company manpowergroup american red cross kelly services time warner cable nedbank adobe university of florida bell ecolab bhp billiton university of minnesota absa bbc government of maharashtra ameriprise financial services, inc. unicredit mphasis randstad progressive insurance the ohio state university anthem, inc. safeway teleperformance worleyparsons korea facilitators association british airways national oilwell varco aviva syngenta magna international walt disney world auchan staples no-company the salvation army inditex barclays investment bank toyota sherwin williams arcadis motorola chubb stanford university mercer airtel colegio sony genentech delphi serco bd leroy merlin sct ltd co. air liquide te connectivity wood promsvyaznedvizhimost duke energy corporation university of toronto teksystems insidesecure sun life financial tata motors century 21® adecco group colgate palmolive ge aviation no tesla sena queensland health air france u.s. coast guard the janssen pharmaceutical companies of johnson & johnson bayer healthcare stmicroelectronics charter communications re/max jabil us government skanska leonardo accorhotels brf l&t infotech sonatrach pizza hut technip eni departament d'ensenyament - generalitat de catalunya altran emerson automation solutions the boston consulting group (bcg) l-3 communications davita intesa sanpaolo daimler ag lear corporation rockwell automation rb db schenker hôtel wells fargo advisors accenture in india texas a&m university bloomberg lp arizona state university heineken escola statoil ppg industries sainsbury's fiserv teva pharmaceuticals rogers communications conocophillips diageo michigan state university qatar airways generali suntrust bank rockwell collins office depot sephora telenor manulife ceva logistics nbcuniversal media, llc ministerie van defensie university of phoenix independent standard chartered bank pdvsa petroleos de venezuela s.a. sutherland global services four seasons hotels and resorts harvard university telecom italia mary kay cosmetics ucla international paper geico pôle emploi ch2m hill kellogg company t-systems purdue university anheuser-busch inbev columbia university in the city of new york chase providence health & services university of illinois at urbana-champaign junta de andalucía whirlpool corporation university of southern california my own business ping an insurance (group) company of china ,ltd desjardins telus hays rite aid state of california vanguard enterprise holdings leidos sky blackrock henkel tnt asda mckesson network rail compass group atlas copco rio tinto robert bosch marks and spencer us army corps of engineers united states army reserve regions bank the university of texas at austin zurich insurance company ltd ppd generalitat de catalunya poste italiane grant thornton llp the hartford nasa new york university kotak mahindra bank university of pennsylvania paypal the goodyear tire & rubber company fifth third bank intertek wells fargo home mortgage symantec unicef uc berkeley nsw department of education and communities starwood hotels & resorts worldwide, inc. quest diagnostics sam's club geen rutgers university ing ge capital education nationale westpac governo do estado de são paulo northern trust corporation sasol electrolux claro university of wisconsin-madison pivate institute inps general mills aim unisys burger king corporation tetra pak coca-cola femsa cnh industrial banner health upmc american family insurance hsbc global banking and markets saint-gobain indian railways aerotek m&t bank visa dimension data national grid fnb south africa mapfre govt. of india general dynamics information technology etisalat reliance communications atkins pt bank mandiri (persero) tbk. marsh klm cintas aker solutions zte centers for disease control and prevention veolia applied materials ebay first data corporation charles schwab tata steel parker hannifin advocare the world bank d&d social networks sourcing royal mail petronas fairfax county public schools procter & gamble us forest service autonomo wns global services victoria's secret mastercard volvo car group stantec everis scania waste management machine vibration engineers massachusetts general hospital solvay aucune world vision syntel northwell health hyatt hotels corporation alcon, a novartis company cis allergan bechtel corporation idol image consulting kpn pacific gas and electric company prosegur home depot me ingram micro nxp semiconductors me stesso emerson fedex ground dollar general cornell university dhl supply chain arup british army macquarie group msd aurora health care panera bread idea cellular ltd massachusetts institute of technology (mit) danske bank sutter health oasis tours india pvt. ltd. kpmg uk miami-dade county public schools citizens bank bnp paribas fortis health service executive decathlon france mi casa university of maryland natura expedia, inc. hcl infosystems ltd kbr, inc. arbonne international llc undp no company sitel indian oil corporation limited infor bank in nigeria university of california, san diego ucsf domino's pizza va medical center state farm agent engie asml gartner parexel the university of british columbia ambev micron technology university college london ca technologies the estée lauder companies inc. department of national defence dbs bank seagate technology ricoh americas corporation telefônica brasil university of pittsburgh md anderson cancer center mtn snc-lavalin my own company sanmina department for work and pensions (dwp) independiente uc davis mahindra & mahindra kone atento rsm us llp state of michigan cemex verizon business pratt & whitney shire monash university us air force reserve intermountain healthcare the kraft heinz company canada post / postes canada enel correios cb&i usda securitas security services usa, inc. suncor energy sinsilog's network and marketing luxottica c&a national institutes of health kindred healthcare home instead senior care tyson foods clark county school district lendlease cnrs tieto british council sage petrofac subito band meb concentrix capgemini consulting paychex nil union pacific railroad gap inc. volkswagen ag sysco grainger university colliers international flipkart indiana university bloomington government of canada urs corporation carolinas healthcare system hsbc retail banking and wealth management motorola solutions petsmart memorial sloan kettering cancer center zimmer biomet transport for london netapp aphp any company university of illinois at chicago avaya air canada repsol uwv sandvik propia odebrecht beaumont health system sandoz c.h. robinson yok sou autonomo aia chanel comunidad de madrid not applicable jti (japan tobacco international) bnsf railway university of north carolina at chapel hill us foods u.s. department of justice cipla old mutual houston isd the tjx companies, inc. booking.com policia nacional de colombia northwestern university harris corporation utc aerospace systems express scripts crédit agricole infineon technologies mott macdonald caci international inc hertz saudi telecom company city of toronto adt amadeus it group merck group the ritz-carlton hotel company, l.l.c. vestas robert half indusind bank nyu langone medical center forever living products (uk) ltd mercy sogeti carlson wagonlit travel the university of arizona university of south florida colorado state university university of melbourne cox communications young living essential oils royal caribbean cruises, ltd. wipro bpo north carolina state university diebold nixdorf national bank of canada independent  contractor bayer cropscience university of cincinnati department of education - philippines fda elektrohm ust global ge oil & gas geodis deloitte consulting studio legale ntt data services taco bell georgia-pacific llc igate stanley black & decker, inc. red bull spectrum health etihad airways arthur j. gallagher & co. university of alberta embraer new york-presbyterian hospital raymond james florida hospital amec foster wheeler ooo pra health sciences it works global meijer labcorp autonomo coles qantas university of kentucky casa us navy reserve shoppers drug mart turkish airlines ups supply chain solutions aricent duke university heb parsons corporation securitas keybank experian dominion bcln golf limited owner dyncorp international massmutual financial group university of oxford otis elevator company cameron mindtree oriflame dignity health kbc bank & verzekering ralph lauren takeda pharmaceuticals saps ibest penn medicine, university of pennsylvania health system maxim healthcare services nerium international vodacom covidien red hat nomura anglo american georgia institute of technology thyssenkrupp particular electronic arts (ea) earthlink orange county public schools propria johns hopkins university ross stores, inc. inss ingersoll rand nhs england tecnológico de monterrey universidade de são paulo department of education dsv - global transport and logistics pitney bowes china mobile tiaa imperial college london virtusa uk ministry of defence swiss re coty teradata the university of manchester marinha do brasil nvidia baidu inc. bbva compass ferguson enterprises espn technipfmc jbs boots uk school district of philadelphia ongc tata communications corning incorporated intuit cencosud s.a. alcoa gap inc./old navy internal revenue service dsm dick's sporting goods ohsu | oregon health & science university vanderbilt university medical center capita ulta beauty broadcom charlotte mecklenburg schools poder judicial natixis virginia tech sanofi pasteur\n"
     ]
    }
   ],
   "source": [
    "print(' '.join(company_names))"
   ]
  },
  {
   "cell_type": "code",
   "execution_count": 11,
   "metadata": {},
   "outputs": [
    {
     "data": {
      "text/plain": [
       "13915"
      ]
     },
     "execution_count": 11,
     "metadata": {},
     "output_type": "execute_result"
    }
   ],
   "source": [
    "len(''.join(company_names))"
   ]
  },
  {
   "cell_type": "code",
   "execution_count": 23,
   "metadata": {},
   "outputs": [],
   "source": [
    "all_chars = sorted(list(set(''.join(company_names))))"
   ]
  },
  {
   "cell_type": "code",
   "execution_count": 30,
   "metadata": {},
   "outputs": [],
   "source": [
    "vocab_size = len(all_chars)"
   ]
  },
  {
   "cell_type": "code",
   "execution_count": 31,
   "metadata": {},
   "outputs": [
    {
     "name": "stdout",
     "output_type": "stream",
     "text": [
      " \"&'()+,-./1234abcdefghijklmnopqrstuvwxyz|®ãéëíóôúē\n"
     ]
    }
   ],
   "source": [
    "print(''.join(all_chars))"
   ]
  },
  {
   "cell_type": "code",
   "execution_count": 25,
   "metadata": {},
   "outputs": [
    {
     "name": "stdout",
     "output_type": "stream",
     "text": [
      "[' ', '\"', '&', \"'\", '(', ')', '+', ',', '-', '.', '/', '1', '2', '3', '4', 'a', 'b', 'c', 'd', 'e', 'f', 'g', 'h', 'i', 'j', 'k', 'l', 'm', 'n', 'o', 'p', 'q', 'r', 's', 't', 'u', 'v', 'w', 'x', 'y', 'z', '|', '®', 'ã', 'é', 'ë', 'í', 'ó', 'ô', 'ú', 'ē']\n"
     ]
    }
   ],
   "source": [
    "print(all_chars)"
   ]
  },
  {
   "cell_type": "code",
   "execution_count": 26,
   "metadata": {},
   "outputs": [],
   "source": [
    "stoi = {s:i for i,s in enumerate(all_chars)}"
   ]
  },
  {
   "cell_type": "code",
   "execution_count": null,
   "metadata": {},
   "outputs": [],
   "source": [
    "stoi"
   ]
  },
  {
   "cell_type": "code",
   "execution_count": 28,
   "metadata": {},
   "outputs": [],
   "source": [
    "itos = {i:s for i,s in enumerate(all_chars)}"
   ]
  },
  {
   "cell_type": "code",
   "execution_count": 32,
   "metadata": {},
   "outputs": [],
   "source": [
    "encode = lambda s: [stoi[c] for c in s]\n",
    "decode = lambda l: ''.join([itos[i] for i in l])"
   ]
  },
  {
   "cell_type": "code",
   "execution_count": 34,
   "metadata": {},
   "outputs": [
    {
     "name": "stdout",
     "output_type": "stream",
     "text": [
      "ibm\n",
      "[23, 16, 27]\n",
      "ibm\n"
     ]
    }
   ],
   "source": [
    "for name in company_names:\n",
    "    print(name)\n",
    "    print(encode(name))\n",
    "    print(decode(encode(name)))\n",
    "    break"
   ]
  },
  {
   "cell_type": "code",
   "execution_count": 41,
   "metadata": {},
   "outputs": [],
   "source": [
    "token_embedding = nn.Embedding(vocab_size, 32)"
   ]
  },
  {
   "cell_type": "code",
   "execution_count": 43,
   "metadata": {},
   "outputs": [],
   "source": [
    "token = token_embedding(torch.tensor([23,16,27]))"
   ]
  },
  {
   "cell_type": "code",
   "execution_count": 44,
   "metadata": {},
   "outputs": [
    {
     "data": {
      "text/plain": [
       "torch.Size([3, 32])"
      ]
     },
     "execution_count": 44,
     "metadata": {},
     "output_type": "execute_result"
    }
   ],
   "source": [
    "token.shape"
   ]
  },
  {
   "cell_type": "code",
   "execution_count": 48,
   "metadata": {},
   "outputs": [],
   "source": [
    "s_t = torch.stack((torch.tensor([23,16,27]), torch.tensor([23,16,27])))"
   ]
  },
  {
   "cell_type": "code",
   "execution_count": 49,
   "metadata": {},
   "outputs": [
    {
     "data": {
      "text/plain": [
       "torch.Size([2, 3])"
      ]
     },
     "execution_count": 49,
     "metadata": {},
     "output_type": "execute_result"
    }
   ],
   "source": [
    "s_t.shape"
   ]
  },
  {
   "cell_type": "code",
   "execution_count": null,
   "metadata": {},
   "outputs": [],
   "source": []
  },
  {
   "cell_type": "code",
   "execution_count": 40,
   "metadata": {},
   "outputs": [
    {
     "data": {
      "text/plain": [
       "tensor([0, 1, 2])"
      ]
     },
     "execution_count": 40,
     "metadata": {},
     "output_type": "execute_result"
    }
   ],
   "source": [
    "torch.arange(3)"
   ]
  },
  {
   "cell_type": "code",
   "execution_count": null,
   "metadata": {},
   "outputs": [],
   "source": []
  },
  {
   "cell_type": "code",
   "execution_count": null,
   "metadata": {},
   "outputs": [],
   "source": [
    "device = 'cpu'\n",
    "\n",
    "class Encoder(nn.Module):\n",
    "    def __init__(self):\n",
    "        self.token_embedding = nn.Embedding(vocab_size, 32)\n",
    "        self.positional_embedding = nn.Embedding(vocab_size, 32)\n",
    "        pass\n",
    "    def forward(self, x):\n",
    "        B, T = x.shape\n",
    "        tok_emb = self.token_embedding(x)\n",
    "        pos_emb = self.positional_embedding(torch.arange(T, device=device))\n",
    "        x = tok_emb + pos_emb"
   ]
  }
 ],
 "metadata": {
  "kernelspec": {
   "display_name": "python39",
   "language": "python",
   "name": "python3"
  },
  "language_info": {
   "codemirror_mode": {
    "name": "ipython",
    "version": 3
   },
   "file_extension": ".py",
   "mimetype": "text/x-python",
   "name": "python",
   "nbconvert_exporter": "python",
   "pygments_lexer": "ipython3",
   "version": "3.9.0"
  }
 },
 "nbformat": 4,
 "nbformat_minor": 2
}
