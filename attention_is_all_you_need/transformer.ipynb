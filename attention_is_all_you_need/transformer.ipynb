{
 "cells": [
  {
   "cell_type": "code",
   "execution_count": 1,
   "metadata": {},
   "outputs": [],
   "source": [
    "import torch\n",
    "from torch import nn\n",
    "import numpy as np\n",
    "import pandas as pd"
   ]
  },
  {
   "cell_type": "code",
   "execution_count": 4,
   "metadata": {},
   "outputs": [],
   "source": [
    "companies_df = pd.read_csv('companies_sorted.csv')"
   ]
  },
  {
   "cell_type": "code",
   "execution_count": 5,
   "metadata": {},
   "outputs": [
    {
     "data": {
      "text/html": [
       "<div>\n",
       "<style scoped>\n",
       "    .dataframe tbody tr th:only-of-type {\n",
       "        vertical-align: middle;\n",
       "    }\n",
       "\n",
       "    .dataframe tbody tr th {\n",
       "        vertical-align: top;\n",
       "    }\n",
       "\n",
       "    .dataframe thead th {\n",
       "        text-align: right;\n",
       "    }\n",
       "</style>\n",
       "<table border=\"1\" class=\"dataframe\">\n",
       "  <thead>\n",
       "    <tr style=\"text-align: right;\">\n",
       "      <th></th>\n",
       "      <th>Unnamed: 0</th>\n",
       "      <th>name</th>\n",
       "      <th>domain</th>\n",
       "      <th>year founded</th>\n",
       "      <th>industry</th>\n",
       "      <th>size range</th>\n",
       "      <th>locality</th>\n",
       "      <th>country</th>\n",
       "      <th>linkedin url</th>\n",
       "      <th>current employee estimate</th>\n",
       "      <th>total employee estimate</th>\n",
       "    </tr>\n",
       "  </thead>\n",
       "  <tbody>\n",
       "    <tr>\n",
       "      <th>0</th>\n",
       "      <td>5872184</td>\n",
       "      <td>ibm</td>\n",
       "      <td>ibm.com</td>\n",
       "      <td>1911.0</td>\n",
       "      <td>information technology and services</td>\n",
       "      <td>10001+</td>\n",
       "      <td>new york, new york, united states</td>\n",
       "      <td>united states</td>\n",
       "      <td>linkedin.com/company/ibm</td>\n",
       "      <td>274047</td>\n",
       "      <td>716906</td>\n",
       "    </tr>\n",
       "    <tr>\n",
       "      <th>1</th>\n",
       "      <td>4425416</td>\n",
       "      <td>tata consultancy services</td>\n",
       "      <td>tcs.com</td>\n",
       "      <td>1968.0</td>\n",
       "      <td>information technology and services</td>\n",
       "      <td>10001+</td>\n",
       "      <td>bombay, maharashtra, india</td>\n",
       "      <td>india</td>\n",
       "      <td>linkedin.com/company/tata-consultancy-services</td>\n",
       "      <td>190771</td>\n",
       "      <td>341369</td>\n",
       "    </tr>\n",
       "    <tr>\n",
       "      <th>2</th>\n",
       "      <td>21074</td>\n",
       "      <td>accenture</td>\n",
       "      <td>accenture.com</td>\n",
       "      <td>1989.0</td>\n",
       "      <td>information technology and services</td>\n",
       "      <td>10001+</td>\n",
       "      <td>dublin, dublin, ireland</td>\n",
       "      <td>ireland</td>\n",
       "      <td>linkedin.com/company/accenture</td>\n",
       "      <td>190689</td>\n",
       "      <td>455768</td>\n",
       "    </tr>\n",
       "    <tr>\n",
       "      <th>3</th>\n",
       "      <td>2309813</td>\n",
       "      <td>us army</td>\n",
       "      <td>goarmy.com</td>\n",
       "      <td>1800.0</td>\n",
       "      <td>military</td>\n",
       "      <td>10001+</td>\n",
       "      <td>alexandria, virginia, united states</td>\n",
       "      <td>united states</td>\n",
       "      <td>linkedin.com/company/us-army</td>\n",
       "      <td>162163</td>\n",
       "      <td>445958</td>\n",
       "    </tr>\n",
       "    <tr>\n",
       "      <th>4</th>\n",
       "      <td>1558607</td>\n",
       "      <td>ey</td>\n",
       "      <td>ey.com</td>\n",
       "      <td>1989.0</td>\n",
       "      <td>accounting</td>\n",
       "      <td>10001+</td>\n",
       "      <td>london, greater london, united kingdom</td>\n",
       "      <td>united kingdom</td>\n",
       "      <td>linkedin.com/company/ernstandyoung</td>\n",
       "      <td>158363</td>\n",
       "      <td>428960</td>\n",
       "    </tr>\n",
       "  </tbody>\n",
       "</table>\n",
       "</div>"
      ],
      "text/plain": [
       "   Unnamed: 0                       name         domain  year founded  \\\n",
       "0     5872184                        ibm        ibm.com        1911.0   \n",
       "1     4425416  tata consultancy services        tcs.com        1968.0   \n",
       "2       21074                  accenture  accenture.com        1989.0   \n",
       "3     2309813                    us army     goarmy.com        1800.0   \n",
       "4     1558607                         ey         ey.com        1989.0   \n",
       "\n",
       "                              industry size range  \\\n",
       "0  information technology and services     10001+   \n",
       "1  information technology and services     10001+   \n",
       "2  information technology and services     10001+   \n",
       "3                             military     10001+   \n",
       "4                           accounting     10001+   \n",
       "\n",
       "                                 locality         country  \\\n",
       "0       new york, new york, united states   united states   \n",
       "1              bombay, maharashtra, india           india   \n",
       "2                 dublin, dublin, ireland         ireland   \n",
       "3     alexandria, virginia, united states   united states   \n",
       "4  london, greater london, united kingdom  united kingdom   \n",
       "\n",
       "                                     linkedin url  current employee estimate  \\\n",
       "0                        linkedin.com/company/ibm                     274047   \n",
       "1  linkedin.com/company/tata-consultancy-services                     190771   \n",
       "2                  linkedin.com/company/accenture                     190689   \n",
       "3                    linkedin.com/company/us-army                     162163   \n",
       "4              linkedin.com/company/ernstandyoung                     158363   \n",
       "\n",
       "   total employee estimate  \n",
       "0                   716906  \n",
       "1                   341369  \n",
       "2                   455768  \n",
       "3                   445958  \n",
       "4                   428960  "
      ]
     },
     "execution_count": 5,
     "metadata": {},
     "output_type": "execute_result"
    }
   ],
   "source": [
    "companies_df.head()"
   ]
  },
  {
   "cell_type": "code",
   "execution_count": null,
   "metadata": {},
   "outputs": [],
   "source": [
    "#companies_df['name'][:1000].to_csv('companies_names_list.csv', index=False)"
   ]
  },
  {
   "cell_type": "code",
   "execution_count": 9,
   "metadata": {},
   "outputs": [],
   "source": [
    "company_names = companies_df['name'][:1000].to_list()"
   ]
  },
  {
   "cell_type": "code",
   "execution_count": 10,
   "metadata": {},
   "outputs": [
    {
     "data": {
      "text/plain": [
       "1000"
      ]
     },
     "execution_count": 10,
     "metadata": {},
     "output_type": "execute_result"
    }
   ],
   "source": [
    "len(company_names)"
   ]
  },
  {
   "cell_type": "code",
   "execution_count": 39,
   "metadata": {},
   "outputs": [
    {
     "name": "stdout",
     "output_type": "stream",
     "text": [
      "ibm tata consultancy services accenture us army ey hewlett-packard cognizant technology solutions walmart microsoft at&t united states air force pwc wells fargo infosys deloitte citi bank of america jpmorgan chase & co. us navy amazon apple siemens oracle nokia education nationale capgemini wipro technologies hsbc google united states postal service mcdonald's corporation ericsson nhs boeing vodafone kaiser permanente ford motor company intel corporation department of veterans affairs cisco general motors pepsico target shell hcl technologies ups pfizer unilever nestlé unitedhealth group huawei technologies dell gsk honeywell sap schlumberger lockheed martin ayatama energi, trisco nusantara abb american center of krasnodar starbucks promobroker agente de seguros y de fianzas s a de c v morgan stanley the home depot independiente novartis johnson & johnson bp schneider electric state farm secretaría de educación pública dhl my home td ge philips ubs procter & gamble walgreens keller williams realty, inc. lowe's companies, inc. verbum traducción y edición united states marine corps dell emc tech mahindra verizon wireless sanofi bnp paribas sodexo deutsche bank tencent j.p. morgan verizon l'oréal kpmg orange linkedin barclays facebook northrop grumman corporation fca fiat chrysler automobiles adp medtronic abbott chevron roche american express samsung electronics macy's thomson reuters ministerio de educación avon cgi cvs health halliburton atos pcs informatica ge healthcare csc merck kpmg banco santander scotiabank dxc technology johnson controls posteamos.com allstate petrobras credit suisse telefónica marriott international axa 3m health care standard chartered bank xerox cbre nyc department of education goldman sachs fidelity investments icici bank exxonmobil t-mobile aon royal bank of scotland astrazeneca nike basf hdfc bank best buy american airlines baker hughes the coca-cola company genpact jll rbc u.s. bank larsen & toubro continental pnc sprint saudi aramco g4s airbus capital one delta air lines carrefour ninguna merrill lynch mondelēz international bt h&m anz farmers insurance aecom united states department of defense metlife total ikea group cargill bae systems united airlines lavoratore indipendente mary kay inc. liberty mutual insurance comcast caterpillar inc. jacobs bny mellon raytheon société générale eli lilly and company hp eskom school uber lloyds banking group kroger thermo fisher scientific renault nhs trust willis towers watson hospital universitario josep trueta aig state bank of india fedex express novo nordisk mynet vale itaú unibanco h&r block sncf social security administration bright futures, a college and career management company costco wholesale thales convergys ministry of education tesco plc iqvia salesforce edf prefeitura municipal the dow chemical company forza silicon hilton worldwide los angeles unified school district army national guard nordstrom lifespan fedex edward jones particular travelers fresher boehringer ingelheim state street private the walt disney company nielsen emirates lg electronics bombardier herbalife northwestern mutual valeo eaton aflac united nations flextronics standard bank group subway mayo clinic booz allen hamilton allianz telstra qualcomm john deere aetna enterprise rent-a-car bristol-myers squibb alberta health services us department of homeland security commonwealth bank new york life insurance company siemens healthcare cibc adidas weatherford fluor corporation pemex sopra steria hca bmw group dupont nessuna azienda sears holdings corporation cleveland clinic lafargeholcim kohl's department stores humana primerica axis bank coldwell banker residential brokerage bayer fujitsu faa bbva university of michigan banco do brasil fis foxconn intercontinental hotels group (ihg®) ge power epam systems pearson national australia bank reliance jcpenney imss bradesco boston scientific stay at home mom lenovo nationwide insurance nissan motor corporation amazon web services philip morris international alstom cummins inc. centurylink psa peugeot citroën european commission amgen abn amro bank n.v. cvs pharmacy trw ncr corporation akzonobel amdocs abbvie arcelormittal free lance jaguar land rover autônoma sgs wipro infotech aramark ministero istruzione, universita' e ricerca samsung kuehne + nagel cerner corporation mckinsey & company kimberly-clark caixa economica federal biocolloids fate and transport in environmental systems, network biomet agilent technologies upwork whole foods market comcast cable indra southwest airlines mid managing international diffusion stryker international mission of mercy (imm) british american tobacco nordea bank of america merrill lynch publix super markets own businees youtube u.s. department of state \"cecaci\"  centro de capacitacion comercial e industrial mars lic sabic bsnl danone usaa chicago public schools le groupe la poste bmo financial group fresenius medical care cushman & wakefield ing rolls-royce cigna ymca prudential financial saipem bosch rodan + fields rr donnelley vmware university of washington penn state university texas instruments michelin baxter international inc. sakri it solutions pvt ltd rabobank cardinal health amway adecco bb&t saic bureau veritas faurecia sas indite technologies mahindra satyam coldwell banker orange business services monsanto company manpowergroup american red cross kelly services time warner cable nedbank adobe university of florida bell ecolab bhp billiton university of minnesota absa bbc government of maharashtra ameriprise financial services, inc. unicredit mphasis randstad progressive insurance the ohio state university anthem, inc. safeway teleperformance worleyparsons korea facilitators association british airways national oilwell varco aviva syngenta magna international walt disney world auchan staples no-company the salvation army inditex barclays investment bank toyota sherwin williams arcadis motorola chubb stanford university mercer airtel colegio sony genentech delphi serco bd leroy merlin sct ltd co. air liquide te connectivity wood promsvyaznedvizhimost duke energy corporation university of toronto teksystems insidesecure sun life financial tata motors century 21® adecco group colgate palmolive ge aviation no tesla sena queensland health air france u.s. coast guard the janssen pharmaceutical companies of johnson & johnson bayer healthcare stmicroelectronics charter communications re/max jabil us government skanska leonardo accorhotels brf l&t infotech sonatrach pizza hut technip eni departament d'ensenyament - generalitat de catalunya altran emerson automation solutions the boston consulting group (bcg) l-3 communications davita intesa sanpaolo daimler ag lear corporation rockwell automation rb db schenker hôtel wells fargo advisors accenture in india texas a&m university bloomberg lp arizona state university heineken escola statoil ppg industries sainsbury's fiserv teva pharmaceuticals rogers communications conocophillips diageo michigan state university qatar airways generali suntrust bank rockwell collins office depot sephora telenor manulife ceva logistics nbcuniversal media, llc ministerie van defensie university of phoenix independent standard chartered bank pdvsa petroleos de venezuela s.a. sutherland global services four seasons hotels and resorts harvard university telecom italia mary kay cosmetics ucla international paper geico pôle emploi ch2m hill kellogg company t-systems purdue university anheuser-busch inbev columbia university in the city of new york chase providence health & services university of illinois at urbana-champaign junta de andalucía whirlpool corporation university of southern california my own business ping an insurance (group) company of china ,ltd desjardins telus hays rite aid state of california vanguard enterprise holdings leidos sky blackrock henkel tnt asda mckesson network rail compass group atlas copco rio tinto robert bosch marks and spencer us army corps of engineers united states army reserve regions bank the university of texas at austin zurich insurance company ltd ppd generalitat de catalunya poste italiane grant thornton llp the hartford nasa new york university kotak mahindra bank university of pennsylvania paypal the goodyear tire & rubber company fifth third bank intertek wells fargo home mortgage symantec unicef uc berkeley nsw department of education and communities starwood hotels & resorts worldwide, inc. quest diagnostics sam's club geen rutgers university ing ge capital education nationale westpac governo do estado de são paulo northern trust corporation sasol electrolux claro university of wisconsin-madison pivate institute inps general mills aim unisys burger king corporation tetra pak coca-cola femsa cnh industrial banner health upmc american family insurance hsbc global banking and markets saint-gobain indian railways aerotek m&t bank visa dimension data national grid fnb south africa mapfre govt. of india general dynamics information technology etisalat reliance communications atkins pt bank mandiri (persero) tbk. marsh klm cintas aker solutions zte centers for disease control and prevention veolia applied materials ebay first data corporation charles schwab tata steel parker hannifin advocare the world bank d&d social networks sourcing royal mail petronas fairfax county public schools procter & gamble us forest service autonomo wns global services victoria's secret mastercard volvo car group stantec everis scania waste management machine vibration engineers massachusetts general hospital solvay aucune world vision syntel northwell health hyatt hotels corporation alcon, a novartis company cis allergan bechtel corporation idol image consulting kpn pacific gas and electric company prosegur home depot me ingram micro nxp semiconductors me stesso emerson fedex ground dollar general cornell university dhl supply chain arup british army macquarie group msd aurora health care panera bread idea cellular ltd massachusetts institute of technology (mit) danske bank sutter health oasis tours india pvt. ltd. kpmg uk miami-dade county public schools citizens bank bnp paribas fortis health service executive decathlon france mi casa university of maryland natura expedia, inc. hcl infosystems ltd kbr, inc. arbonne international llc undp no company sitel indian oil corporation limited infor bank in nigeria university of california, san diego ucsf domino's pizza va medical center state farm agent engie asml gartner parexel the university of british columbia ambev micron technology university college london ca technologies the estée lauder companies inc. department of national defence dbs bank seagate technology ricoh americas corporation telefônica brasil university of pittsburgh md anderson cancer center mtn snc-lavalin my own company sanmina department for work and pensions (dwp) independiente uc davis mahindra & mahindra kone atento rsm us llp state of michigan cemex verizon business pratt & whitney shire monash university us air force reserve intermountain healthcare the kraft heinz company canada post / postes canada enel correios cb&i usda securitas security services usa, inc. suncor energy sinsilog's network and marketing luxottica c&a national institutes of health kindred healthcare home instead senior care tyson foods clark county school district lendlease cnrs tieto british council sage petrofac subito band meb concentrix capgemini consulting paychex nil union pacific railroad gap inc. volkswagen ag sysco grainger university colliers international flipkart indiana university bloomington government of canada urs corporation carolinas healthcare system hsbc retail banking and wealth management motorola solutions petsmart memorial sloan kettering cancer center zimmer biomet transport for london netapp aphp any company university of illinois at chicago avaya air canada repsol uwv sandvik propia odebrecht beaumont health system sandoz c.h. robinson yok sou autonomo aia chanel comunidad de madrid not applicable jti (japan tobacco international) bnsf railway university of north carolina at chapel hill us foods u.s. department of justice cipla old mutual houston isd the tjx companies, inc. booking.com policia nacional de colombia northwestern university harris corporation utc aerospace systems express scripts crédit agricole infineon technologies mott macdonald caci international inc hertz saudi telecom company city of toronto adt amadeus it group merck group the ritz-carlton hotel company, l.l.c. vestas robert half indusind bank nyu langone medical center forever living products (uk) ltd mercy sogeti carlson wagonlit travel the university of arizona university of south florida colorado state university university of melbourne cox communications young living essential oils royal caribbean cruises, ltd. wipro bpo north carolina state university diebold nixdorf national bank of canada independent  contractor bayer cropscience university of cincinnati department of education - philippines fda elektrohm ust global ge oil & gas geodis deloitte consulting studio legale ntt data services taco bell georgia-pacific llc igate stanley black & decker, inc. red bull spectrum health etihad airways arthur j. gallagher & co. university of alberta embraer new york-presbyterian hospital raymond james florida hospital amec foster wheeler ooo pra health sciences it works global meijer labcorp autonomo coles qantas university of kentucky casa us navy reserve shoppers drug mart turkish airlines ups supply chain solutions aricent duke university heb parsons corporation securitas keybank experian dominion bcln golf limited owner dyncorp international massmutual financial group university of oxford otis elevator company cameron mindtree oriflame dignity health kbc bank & verzekering ralph lauren takeda pharmaceuticals saps ibest penn medicine, university of pennsylvania health system maxim healthcare services nerium international vodacom covidien red hat nomura anglo american georgia institute of technology thyssenkrupp particular electronic arts (ea) earthlink orange county public schools propria johns hopkins university ross stores, inc. inss ingersoll rand nhs england tecnológico de monterrey universidade de são paulo department of education dsv - global transport and logistics pitney bowes china mobile tiaa imperial college london virtusa uk ministry of defence swiss re coty teradata the university of manchester marinha do brasil nvidia baidu inc. bbva compass ferguson enterprises espn technipfmc jbs boots uk school district of philadelphia ongc tata communications corning incorporated intuit cencosud s.a. alcoa gap inc./old navy internal revenue service dsm dick's sporting goods ohsu | oregon health & science university vanderbilt university medical center capita ulta beauty broadcom charlotte mecklenburg schools poder judicial natixis virginia tech sanofi pasteur\n"
     ]
    }
   ],
   "source": [
    "print(' '.join(company_names))"
   ]
  },
  {
   "cell_type": "code",
   "execution_count": 11,
   "metadata": {},
   "outputs": [
    {
     "data": {
      "text/plain": [
       "13915"
      ]
     },
     "execution_count": 11,
     "metadata": {},
     "output_type": "execute_result"
    }
   ],
   "source": [
    "len(''.join(company_names))"
   ]
  },
  {
   "cell_type": "code",
   "execution_count": 23,
   "metadata": {},
   "outputs": [],
   "source": [
    "all_chars = sorted(list(set(''.join(company_names))))"
   ]
  },
  {
   "cell_type": "code",
   "execution_count": 30,
   "metadata": {},
   "outputs": [],
   "source": [
    "vocab_size = len(all_chars)"
   ]
  },
  {
   "cell_type": "code",
   "execution_count": 31,
   "metadata": {},
   "outputs": [
    {
     "name": "stdout",
     "output_type": "stream",
     "text": [
      " \"&'()+,-./1234abcdefghijklmnopqrstuvwxyz|®ãéëíóôúē\n"
     ]
    }
   ],
   "source": [
    "print(''.join(all_chars))"
   ]
  },
  {
   "cell_type": "code",
   "execution_count": 25,
   "metadata": {},
   "outputs": [
    {
     "name": "stdout",
     "output_type": "stream",
     "text": [
      "[' ', '\"', '&', \"'\", '(', ')', '+', ',', '-', '.', '/', '1', '2', '3', '4', 'a', 'b', 'c', 'd', 'e', 'f', 'g', 'h', 'i', 'j', 'k', 'l', 'm', 'n', 'o', 'p', 'q', 'r', 's', 't', 'u', 'v', 'w', 'x', 'y', 'z', '|', '®', 'ã', 'é', 'ë', 'í', 'ó', 'ô', 'ú', 'ē']\n"
     ]
    }
   ],
   "source": [
    "print(all_chars)"
   ]
  },
  {
   "cell_type": "code",
   "execution_count": 26,
   "metadata": {},
   "outputs": [],
   "source": [
    "stoi = {s:i for i,s in enumerate(all_chars)}"
   ]
  },
  {
   "cell_type": "code",
   "execution_count": null,
   "metadata": {},
   "outputs": [],
   "source": [
    "stoi"
   ]
  },
  {
   "cell_type": "code",
   "execution_count": 28,
   "metadata": {},
   "outputs": [],
   "source": [
    "itos = {i:s for i,s in enumerate(all_chars)}"
   ]
  },
  {
   "cell_type": "code",
   "execution_count": 32,
   "metadata": {},
   "outputs": [],
   "source": [
    "encode = lambda s: [stoi[c] for c in s]\n",
    "decode = lambda l: ''.join([itos[i] for i in l])"
   ]
  },
  {
   "cell_type": "code",
   "execution_count": 34,
   "metadata": {},
   "outputs": [
    {
     "name": "stdout",
     "output_type": "stream",
     "text": [
      "ibm\n",
      "[23, 16, 27]\n",
      "ibm\n"
     ]
    }
   ],
   "source": [
    "for name in company_names:\n",
    "    print(name)\n",
    "    print(encode(name))\n",
    "    print(decode(encode(name)))\n",
    "    break"
   ]
  },
  {
   "cell_type": "code",
   "execution_count": 41,
   "metadata": {},
   "outputs": [],
   "source": [
    "token_embedding = nn.Embedding(vocab_size, 32)"
   ]
  },
  {
   "cell_type": "code",
   "execution_count": null,
   "metadata": {},
   "outputs": [],
   "source": [
    "token = token_embedding(torch.tensor([23,16,27]))"
   ]
  },
  {
   "cell_type": "code",
   "execution_count": 44,
   "metadata": {},
   "outputs": [
    {
     "data": {
      "text/plain": [
       "torch.Size([3, 32])"
      ]
     },
     "execution_count": 44,
     "metadata": {},
     "output_type": "execute_result"
    }
   ],
   "source": [
    "token.shape"
   ]
  },
  {
   "cell_type": "code",
   "execution_count": 3,
   "metadata": {},
   "outputs": [],
   "source": [
    "s_t = torch.stack((torch.tensor([23,16,27]), torch.tensor([23,16,27])))"
   ]
  },
  {
   "cell_type": "code",
   "execution_count": 49,
   "metadata": {},
   "outputs": [
    {
     "data": {
      "text/plain": [
       "torch.Size([2, 3])"
      ]
     },
     "execution_count": 49,
     "metadata": {},
     "output_type": "execute_result"
    }
   ],
   "source": [
    "s_t.shape"
   ]
  },
  {
   "cell_type": "code",
   "execution_count": null,
   "metadata": {},
   "outputs": [],
   "source": []
  },
  {
   "cell_type": "code",
   "execution_count": 40,
   "metadata": {},
   "outputs": [
    {
     "data": {
      "text/plain": [
       "tensor([0, 1, 2])"
      ]
     },
     "execution_count": 40,
     "metadata": {},
     "output_type": "execute_result"
    }
   ],
   "source": [
    "torch.arange(3)"
   ]
  },
  {
   "cell_type": "code",
   "execution_count": 154,
   "metadata": {},
   "outputs": [],
   "source": [
    "class LayerNorm(nn.Module):\n",
    "    def __init__(self,d_model=512, eps=1e-12):\n",
    "        super(LayerNorm, self).__init__()\n",
    "        self.gamma = nn.Parameter(torch.ones(d_model))\n",
    "        self.beta = nn.Parameter(torch.zeros(d_model))\n",
    "        self.eps = eps\n",
    "    def forward(self,x):\n",
    "        mean = x.mean(-1,keepdim=True)\n",
    "        var = x.var(-1, keepdim=True, unbiased=False)\n",
    "\n",
    "        out = (x - mean)/torch.sqrt(var + self.eps)\n",
    "        out = out * self.gamma + self.beta\n",
    "        return out\n"
   ]
  },
  {
   "cell_type": "code",
   "execution_count": 155,
   "metadata": {},
   "outputs": [],
   "source": [
    "class PositionwiseFeedForward(nn.Module):\n",
    "    def __init__(self, d_model=512, d_ff=2048, drop_prob=0.1):\n",
    "        super(PositionwiseFeedForward, self).__init__()\n",
    "        self.l1 = nn.Linear(d_model,d_ff )\n",
    "        self.l2 = nn.Linear(d_ff, d_model)\n",
    "        self.relu = nn.ReLU()\n",
    "        self.dropout = nn.Dropout(p=drop_prob)\n",
    "\n",
    "    def forward(self, x):\n",
    "        x = self.l1(x)\n",
    "        x = self.relu(x)\n",
    "        x = self.dropout(x)\n",
    "        x = self.l2(x)\n",
    "        return x"
   ]
  },
  {
   "cell_type": "code",
   "execution_count": null,
   "metadata": {},
   "outputs": [],
   "source": []
  },
  {
   "cell_type": "code",
   "execution_count": 156,
   "metadata": {},
   "outputs": [],
   "source": [
    "d_model = 512\n",
    "\n",
    "class MultiHeadAttention(nn.Module):\n",
    "    def __init__(self, heads: int = 8):\n",
    "        super(MultiHeadAttention, self).__init__()\n",
    "        self.k = nn.Linear(d_model, d_model)\n",
    "        self.v = nn.Linear(d_model, d_model)\n",
    "        self.q = nn.Linear(d_model, d_model)\n",
    "        self.w_concat = nn.Linear(d_model, d_model)\n",
    "        self.softmax = nn.Softmax(dim=-1)\n",
    "        self.heads = heads\n",
    "\n",
    "    def forward(self, x: torch.tensor):\n",
    "\n",
    "        k = self.split(self.k(x))\n",
    "        v = self.split(self.v(x))\n",
    "        q = self.split(self.q(x))\n",
    "\n",
    "\n",
    "\n",
    "        k_t = k.transpose(2,3)\n",
    "\n",
    "        score = (q@k_t)*(k.shape[-1]**-0.5)\n",
    "\n",
    "        score = self.softmax(score)\n",
    "\n",
    "        scale_product = score @ v\n",
    "        \n",
    "        batch, length, heads, d_tensor = scale_product.size()\n",
    "        scale_product = scale_product.view(batch, length, heads*d_tensor)\n",
    "        scale_product = self.w_concat(scale_product)\n",
    "\n",
    "        return scale_product\n",
    "    \n",
    "    def split(self, tensor:torch.tensor):\n",
    "\n",
    "        batch, length, d_model = tensor.size()\n",
    "        d_tensor = d_model//self.heads\n",
    "\n",
    "        new_tensor = tensor.view(batch, length, self.heads, d_tensor)\n",
    "\n",
    "        return new_tensor\n",
    "    \n",
    "\n",
    "\n",
    "\n",
    "\n",
    "    "
   ]
  },
  {
   "cell_type": "code",
   "execution_count": 157,
   "metadata": {},
   "outputs": [],
   "source": [
    "device = 'cpu'\n",
    "\n",
    "\n",
    "class Encoder(nn.Module):\n",
    "    def __init__(self, drop_prob=0.1):\n",
    "        super(Encoder, self).__init__()\n",
    "        self.token_embedding = nn.Embedding(vocab_size, d_model)\n",
    "        self.positional_embedding = nn.Embedding(vocab_size, d_model)\n",
    "        self.attention = MultiHeadAttention()\n",
    "        self.ffn = PositionwiseFeedForward()\n",
    "        self.layer_norm = LayerNorm()\n",
    "        self.dropout1 = nn.Dropout(p=drop_prob)\n",
    "        self.dropout2 = nn.Dropout(p=drop_prob)\n",
    "\n",
    "    def forward(self, x):\n",
    "        B, T = x.shape\n",
    "        tok_emb = self.token_embedding(x)\n",
    "        pos_emb = self.positional_embedding(torch.arange(T, device=device))\n",
    "        x = tok_emb + pos_emb\n",
    "        _x = x\n",
    "        x = self.attention(x)\n",
    "        x = self.dropout1(x)\n",
    "\n",
    "        x = self.layer_norm(x + _x)\n",
    "\n",
    "        _x = x\n",
    "        x = self.ffn(x)\n",
    "\n",
    "        x = self.dropout2(x)\n",
    "        x = self.layer_norm(x + _x)\n",
    "\n",
    "        return x\n",
    "        "
   ]
  },
  {
   "cell_type": "code",
   "execution_count": 158,
   "metadata": {},
   "outputs": [],
   "source": [
    "encoder_model = Encoder()"
   ]
  },
  {
   "cell_type": "code",
   "execution_count": 159,
   "metadata": {},
   "outputs": [],
   "source": [
    "output = encoder_model(s_t)"
   ]
  },
  {
   "cell_type": "code",
   "execution_count": 160,
   "metadata": {},
   "outputs": [
    {
     "data": {
      "text/plain": [
       "torch.Size([2, 3, 512])"
      ]
     },
     "execution_count": 160,
     "metadata": {},
     "output_type": "execute_result"
    }
   ],
   "source": [
    "output.shape"
   ]
  },
  {
   "cell_type": "code",
   "execution_count": 161,
   "metadata": {},
   "outputs": [
    {
     "data": {
      "text/plain": [
       "tensor([[[-0.4820, -0.0833, -0.7650,  ..., -0.8206, -1.5066,  0.2730],\n",
       "         [-1.0457,  0.7325,  0.5840,  ..., -0.9054,  0.8780, -0.7560],\n",
       "         [-0.5565,  0.5629,  0.2293,  ..., -0.8365, -1.5694, -1.5336]],\n",
       "\n",
       "        [[-0.2968, -0.1843, -0.7212,  ..., -0.9152, -1.4189,  0.2936],\n",
       "         [-1.1320,  0.6276,  0.4323,  ..., -0.9554,  1.1707, -0.5591],\n",
       "         [-0.5562,  0.2240,  0.2159,  ..., -1.0180, -1.4673, -1.4312]]],\n",
       "       grad_fn=<AddBackward0>)"
      ]
     },
     "execution_count": 161,
     "metadata": {},
     "output_type": "execute_result"
    }
   ],
   "source": [
    "output"
   ]
  },
  {
   "cell_type": "markdown",
   "metadata": {},
   "source": [
    "## Experiments"
   ]
  },
  {
   "cell_type": "code",
   "execution_count": 4,
   "metadata": {},
   "outputs": [],
   "source": [
    "s_t = torch.stack((torch.tensor([23,16,27]), torch.tensor([23,16,27])))"
   ]
  },
  {
   "cell_type": "code",
   "execution_count": 5,
   "metadata": {},
   "outputs": [],
   "source": [
    "d_model = 512"
   ]
  },
  {
   "cell_type": "code",
   "execution_count": 7,
   "metadata": {},
   "outputs": [],
   "source": [
    "vocab_size = 51"
   ]
  },
  {
   "cell_type": "code",
   "execution_count": 8,
   "metadata": {},
   "outputs": [],
   "source": [
    "token_embedding = nn.Embedding(vocab_size, d_model)\n",
    "positional_embedding = nn.Embedding(vocab_size, d_model)"
   ]
  },
  {
   "cell_type": "code",
   "execution_count": 9,
   "metadata": {},
   "outputs": [
    {
     "data": {
      "text/plain": [
       "torch.Size([2, 3])"
      ]
     },
     "execution_count": 9,
     "metadata": {},
     "output_type": "execute_result"
    }
   ],
   "source": [
    "s_t.shape"
   ]
  },
  {
   "cell_type": "code",
   "execution_count": 10,
   "metadata": {},
   "outputs": [],
   "source": [
    "tok_emb = token_embedding(s_t)"
   ]
  },
  {
   "cell_type": "code",
   "execution_count": 11,
   "metadata": {},
   "outputs": [
    {
     "data": {
      "text/plain": [
       "torch.Size([2, 3, 512])"
      ]
     },
     "execution_count": 11,
     "metadata": {},
     "output_type": "execute_result"
    }
   ],
   "source": [
    "tok_emb.shape"
   ]
  },
  {
   "cell_type": "code",
   "execution_count": 12,
   "metadata": {},
   "outputs": [
    {
     "data": {
      "text/plain": [
       "tensor([[[-1.7757,  0.0586,  0.2674,  ..., -0.5857, -0.2443, -0.2355],\n",
       "         [ 0.6047, -0.5344,  0.9430,  ...,  0.1872, -0.5387,  1.2751],\n",
       "         [-0.0704, -0.5737,  0.0403,  ...,  0.9521,  0.6735,  0.7023]],\n",
       "\n",
       "        [[-1.7757,  0.0586,  0.2674,  ..., -0.5857, -0.2443, -0.2355],\n",
       "         [ 0.6047, -0.5344,  0.9430,  ...,  0.1872, -0.5387,  1.2751],\n",
       "         [-0.0704, -0.5737,  0.0403,  ...,  0.9521,  0.6735,  0.7023]]],\n",
       "       grad_fn=<EmbeddingBackward0>)"
      ]
     },
     "execution_count": 12,
     "metadata": {},
     "output_type": "execute_result"
    }
   ],
   "source": [
    "tok_emb"
   ]
  },
  {
   "cell_type": "code",
   "execution_count": 13,
   "metadata": {},
   "outputs": [],
   "source": [
    "pos_emb = positional_embedding(torch.arange(s_t.shape[1]))"
   ]
  },
  {
   "cell_type": "code",
   "execution_count": 14,
   "metadata": {},
   "outputs": [
    {
     "data": {
      "text/plain": [
       "tensor([[ 0.2713, -1.6347, -1.1250,  ..., -1.2926,  0.1686,  0.3813],\n",
       "        [ 0.7880, -0.4153, -0.7522,  ..., -0.9934,  1.1213,  0.2822],\n",
       "        [ 0.6961, -0.2195,  0.0581,  ..., -1.2911,  1.7523, -0.0187]],\n",
       "       grad_fn=<EmbeddingBackward0>)"
      ]
     },
     "execution_count": 14,
     "metadata": {},
     "output_type": "execute_result"
    }
   ],
   "source": [
    "pos_emb"
   ]
  },
  {
   "cell_type": "code",
   "execution_count": 15,
   "metadata": {},
   "outputs": [
    {
     "data": {
      "text/plain": [
       "torch.Size([3, 512])"
      ]
     },
     "execution_count": 15,
     "metadata": {},
     "output_type": "execute_result"
    }
   ],
   "source": [
    "pos_emb.shape"
   ]
  },
  {
   "cell_type": "code",
   "execution_count": null,
   "metadata": {},
   "outputs": [],
   "source": []
  },
  {
   "cell_type": "code",
   "execution_count": 60,
   "metadata": {},
   "outputs": [],
   "source": [
    "a = torch.tensor([[1,2],[3,4]])"
   ]
  },
  {
   "cell_type": "code",
   "execution_count": 61,
   "metadata": {},
   "outputs": [
    {
     "data": {
      "text/plain": [
       "torch.Size([2, 2])"
      ]
     },
     "execution_count": 61,
     "metadata": {},
     "output_type": "execute_result"
    }
   ],
   "source": [
    "a.shape"
   ]
  },
  {
   "cell_type": "code",
   "execution_count": 62,
   "metadata": {},
   "outputs": [],
   "source": [
    "b = torch.tensor([1,2])"
   ]
  },
  {
   "cell_type": "code",
   "execution_count": 63,
   "metadata": {},
   "outputs": [
    {
     "data": {
      "text/plain": [
       "torch.Size([2])"
      ]
     },
     "execution_count": 63,
     "metadata": {},
     "output_type": "execute_result"
    }
   ],
   "source": [
    "b.shape"
   ]
  },
  {
   "cell_type": "code",
   "execution_count": 64,
   "metadata": {},
   "outputs": [
    {
     "data": {
      "text/plain": [
       "tensor([[2, 4],\n",
       "        [4, 6]])"
      ]
     },
     "execution_count": 64,
     "metadata": {},
     "output_type": "execute_result"
    }
   ],
   "source": [
    "a + b"
   ]
  },
  {
   "cell_type": "code",
   "execution_count": 16,
   "metadata": {},
   "outputs": [],
   "source": [
    "input_1 = tok_emb + pos_emb"
   ]
  },
  {
   "cell_type": "code",
   "execution_count": 17,
   "metadata": {},
   "outputs": [
    {
     "data": {
      "text/plain": [
       "torch.Size([2, 3, 512])"
      ]
     },
     "execution_count": 17,
     "metadata": {},
     "output_type": "execute_result"
    }
   ],
   "source": [
    "input_1.shape"
   ]
  },
  {
   "cell_type": "code",
   "execution_count": 18,
   "metadata": {},
   "outputs": [],
   "source": [
    "heads=8"
   ]
  },
  {
   "cell_type": "code",
   "execution_count": 19,
   "metadata": {},
   "outputs": [],
   "source": [
    "k = nn.Linear(d_model, d_model)(input_1)\n",
    "v = nn.Linear(d_model, d_model)(input_1)\n",
    "q = nn.Linear(d_model, d_model)(input_1)\n"
   ]
  },
  {
   "cell_type": "code",
   "execution_count": 36,
   "metadata": {},
   "outputs": [],
   "source": [
    "temp_t = torch.rand([2,3,512])"
   ]
  },
  {
   "cell_type": "code",
   "execution_count": 40,
   "metadata": {},
   "outputs": [
    {
     "data": {
      "text/plain": [
       "tensor([[[0.0802, 0.0982, 0.4308,  ..., 0.7891, 0.7740, 0.0154],\n",
       "         [0.6104, 0.0826, 0.5575,  ..., 0.5876, 0.5308, 0.4425],\n",
       "         [0.9638, 0.9295, 0.8518,  ..., 0.3090, 0.9917, 0.1731]],\n",
       "\n",
       "        [[0.6728, 0.1163, 0.8021,  ..., 0.6018, 0.2805, 0.0305],\n",
       "         [0.7369, 0.1752, 0.8285,  ..., 0.2431, 0.1567, 0.5318],\n",
       "         [0.6567, 0.3164, 0.1286,  ..., 0.1141, 0.1067, 0.6810]]])"
      ]
     },
     "execution_count": 40,
     "metadata": {},
     "output_type": "execute_result"
    }
   ],
   "source": [
    "temp_t"
   ]
  },
  {
   "cell_type": "code",
   "execution_count": 38,
   "metadata": {},
   "outputs": [
    {
     "data": {
      "text/plain": [
       "torch.Size([2, 3, 512])"
      ]
     },
     "execution_count": 38,
     "metadata": {},
     "output_type": "execute_result"
    }
   ],
   "source": [
    "temp_t.shape"
   ]
  },
  {
   "cell_type": "code",
   "execution_count": 42,
   "metadata": {},
   "outputs": [
    {
     "data": {
      "text/plain": [
       "8"
      ]
     },
     "execution_count": 42,
     "metadata": {},
     "output_type": "execute_result"
    }
   ],
   "source": [
    "heads"
   ]
  },
  {
   "cell_type": "code",
   "execution_count": 44,
   "metadata": {},
   "outputs": [
    {
     "data": {
      "text/plain": [
       "torch.Size([2, 3, 512])"
      ]
     },
     "execution_count": 44,
     "metadata": {},
     "output_type": "execute_result"
    }
   ],
   "source": [
    "temp_t.size()"
   ]
  },
  {
   "cell_type": "code",
   "execution_count": 46,
   "metadata": {},
   "outputs": [],
   "source": [
    "temp_t_m = temp_t.view(2,3,heads, 512//heads)"
   ]
  },
  {
   "cell_type": "code",
   "execution_count": 47,
   "metadata": {},
   "outputs": [
    {
     "data": {
      "text/plain": [
       "torch.Size([2, 3, 8, 64])"
      ]
     },
     "execution_count": 47,
     "metadata": {},
     "output_type": "execute_result"
    }
   ],
   "source": [
    "temp_t_m.size()"
   ]
  },
  {
   "cell_type": "code",
   "execution_count": 51,
   "metadata": {},
   "outputs": [
    {
     "data": {
      "text/plain": [
       "torch.Size([2, 3, 512])"
      ]
     },
     "execution_count": 51,
     "metadata": {},
     "output_type": "execute_result"
    }
   ],
   "source": [
    "k.shape"
   ]
  },
  {
   "cell_type": "code",
   "execution_count": 52,
   "metadata": {},
   "outputs": [],
   "source": [
    "k = k.view(2,3,heads, 512//heads)"
   ]
  },
  {
   "cell_type": "code",
   "execution_count": 53,
   "metadata": {},
   "outputs": [
    {
     "data": {
      "text/plain": [
       "torch.Size([2, 3, 512])"
      ]
     },
     "execution_count": 53,
     "metadata": {},
     "output_type": "execute_result"
    }
   ],
   "source": [
    "q.shape"
   ]
  },
  {
   "cell_type": "code",
   "execution_count": 54,
   "metadata": {},
   "outputs": [],
   "source": [
    "q = q.view(2,3,heads, 512//heads)"
   ]
  },
  {
   "cell_type": "code",
   "execution_count": 55,
   "metadata": {},
   "outputs": [],
   "source": [
    "v = v.view(2,3,heads, 512//heads)"
   ]
  },
  {
   "cell_type": "code",
   "execution_count": 56,
   "metadata": {},
   "outputs": [
    {
     "data": {
      "text/plain": [
       "torch.Size([2, 3, 8, 64])"
      ]
     },
     "execution_count": 56,
     "metadata": {},
     "output_type": "execute_result"
    }
   ],
   "source": [
    "k.size()"
   ]
  },
  {
   "cell_type": "code",
   "execution_count": 57,
   "metadata": {},
   "outputs": [],
   "source": [
    "k_t = k.transpose(2,3)"
   ]
  },
  {
   "cell_type": "code",
   "execution_count": 58,
   "metadata": {},
   "outputs": [
    {
     "data": {
      "text/plain": [
       "torch.Size([2, 3, 64, 8])"
      ]
     },
     "execution_count": 58,
     "metadata": {},
     "output_type": "execute_result"
    }
   ],
   "source": [
    "k_t.shape"
   ]
  },
  {
   "cell_type": "code",
   "execution_count": 59,
   "metadata": {},
   "outputs": [
    {
     "data": {
      "text/plain": [
       "torch.Size([2, 3, 8, 8])"
      ]
     },
     "execution_count": 59,
     "metadata": {},
     "output_type": "execute_result"
    }
   ],
   "source": [
    "(q @ k_t).shape"
   ]
  },
  {
   "cell_type": "code",
   "execution_count": 60,
   "metadata": {},
   "outputs": [
    {
     "data": {
      "text/plain": [
       "tensor([[[[  1.2117,  -0.3581,  -0.4260,  -0.2827,  -2.8279,  -2.1437,  -2.8679,\n",
       "            -1.0343],\n",
       "          [  7.1344,   3.5787,   0.3892,   3.0862,  -5.9506,  -2.9849,   2.5459,\n",
       "             3.6199],\n",
       "          [  5.2800,   1.7048,  -4.2753,   3.9341,  -1.3720,   5.1133,  -4.5258,\n",
       "             6.0240],\n",
       "          [  0.0952,  -0.1833,   7.6764,  -1.8878,   4.6266,  -0.9071,   0.0241,\n",
       "            -1.9372],\n",
       "          [  3.7228,   7.9129,  -6.5832,   6.3541,  -3.6942,   4.2208,   2.3070,\n",
       "            -1.6370],\n",
       "          [ -5.9752,   1.5262,  -2.4834,   1.4054,  -7.2886,   0.4416,   0.1225,\n",
       "            -1.8685],\n",
       "          [ -2.5396,   3.4102,  -1.2021,   1.1720,   0.7296,   0.8213,  10.1474,\n",
       "             1.8474],\n",
       "          [ -0.6137,  -4.1179,   0.0646,   4.4747,  -0.4499,   9.5888,  -2.5183,\n",
       "            -5.3273]],\n",
       "\n",
       "         [[ -1.2489,  -1.0893,   8.4847,  -1.0904,   3.6712,   6.9259,  -3.6202,\n",
       "             8.8685],\n",
       "          [ -7.5599,  -5.0985,  -5.1248,   2.2981,   0.1744,  -6.4129,   2.2523,\n",
       "            -3.8481],\n",
       "          [  4.6210,  -5.8682,   4.1971,   1.6684,   2.7223,   3.3546,  -0.5590,\n",
       "             7.0851],\n",
       "          [  4.7820,   5.9406,   3.9955,   3.1988,   3.4751,   1.8887,  -9.2231,\n",
       "            -2.7367],\n",
       "          [ -0.5250,   5.7303,   5.5978,   9.2771,   2.8471,   0.4151,  -8.0212,\n",
       "             1.2914],\n",
       "          [  1.7495,   1.4027,   1.6970,   0.0891,   1.2074,   4.4429,   1.1441,\n",
       "            -2.6519],\n",
       "          [ -5.9957,   1.6356,   1.2607,   5.9190,  -7.5994,   4.5038,   7.3015,\n",
       "            -0.3216],\n",
       "          [ -1.8147,   1.0672, -10.6744,   0.6305,  -1.6516,   4.5668,  -3.7244,\n",
       "             2.4485]],\n",
       "\n",
       "         [[  2.5276,   8.1820,  -7.1408,  -0.7410,  -7.3672,   0.5742,  -2.3389,\n",
       "            -5.7475],\n",
       "          [ -5.0144,  -0.4770,   4.1695, -11.5607,  -4.7276,   4.3123,   3.5008,\n",
       "            -1.8475],\n",
       "          [  1.4967,   0.9426,  -3.1709,   4.4125,   0.4389,  -3.3159,  -5.3993,\n",
       "            -4.3383],\n",
       "          [  4.3703,   3.3220,   8.6575,   4.0856,   7.0397,   3.6803,  -8.0119,\n",
       "            -1.7631],\n",
       "          [  5.8835,   2.2541,   2.5373, -12.4686,  10.5646,  -1.9911,   2.8541,\n",
       "             3.0369],\n",
       "          [  9.3080,   0.7189,  -0.4061,   5.3547,   4.2838, -12.6600,  -1.9116,\n",
       "           -10.2533],\n",
       "          [  1.3250,  11.1266,  -4.8665,   4.0605,   0.2316,  -6.4047,   5.0330,\n",
       "            -5.2616],\n",
       "          [ -4.0703,  -4.0169,  -0.9504,  -1.9907,  -2.4265,   0.6058, -10.1534,\n",
       "             0.3430]]],\n",
       "\n",
       "\n",
       "        [[[  1.2117,  -0.3581,  -0.4260,  -0.2827,  -2.8279,  -2.1437,  -2.8679,\n",
       "            -1.0343],\n",
       "          [  7.1344,   3.5787,   0.3892,   3.0862,  -5.9506,  -2.9849,   2.5459,\n",
       "             3.6199],\n",
       "          [  5.2800,   1.7048,  -4.2753,   3.9341,  -1.3720,   5.1133,  -4.5258,\n",
       "             6.0240],\n",
       "          [  0.0952,  -0.1833,   7.6764,  -1.8878,   4.6266,  -0.9071,   0.0241,\n",
       "            -1.9372],\n",
       "          [  3.7228,   7.9129,  -6.5832,   6.3541,  -3.6942,   4.2208,   2.3070,\n",
       "            -1.6370],\n",
       "          [ -5.9752,   1.5262,  -2.4834,   1.4054,  -7.2886,   0.4416,   0.1225,\n",
       "            -1.8685],\n",
       "          [ -2.5396,   3.4102,  -1.2021,   1.1720,   0.7296,   0.8213,  10.1474,\n",
       "             1.8474],\n",
       "          [ -0.6137,  -4.1179,   0.0646,   4.4747,  -0.4499,   9.5888,  -2.5183,\n",
       "            -5.3273]],\n",
       "\n",
       "         [[ -1.2489,  -1.0893,   8.4847,  -1.0904,   3.6712,   6.9259,  -3.6202,\n",
       "             8.8685],\n",
       "          [ -7.5599,  -5.0985,  -5.1248,   2.2981,   0.1744,  -6.4129,   2.2523,\n",
       "            -3.8481],\n",
       "          [  4.6210,  -5.8682,   4.1971,   1.6684,   2.7223,   3.3546,  -0.5590,\n",
       "             7.0851],\n",
       "          [  4.7820,   5.9406,   3.9955,   3.1988,   3.4751,   1.8887,  -9.2231,\n",
       "            -2.7367],\n",
       "          [ -0.5250,   5.7303,   5.5978,   9.2771,   2.8471,   0.4151,  -8.0212,\n",
       "             1.2914],\n",
       "          [  1.7495,   1.4027,   1.6970,   0.0891,   1.2074,   4.4429,   1.1441,\n",
       "            -2.6519],\n",
       "          [ -5.9957,   1.6356,   1.2607,   5.9190,  -7.5994,   4.5038,   7.3015,\n",
       "            -0.3216],\n",
       "          [ -1.8147,   1.0672, -10.6744,   0.6305,  -1.6516,   4.5668,  -3.7244,\n",
       "             2.4485]],\n",
       "\n",
       "         [[  2.5276,   8.1820,  -7.1408,  -0.7410,  -7.3672,   0.5742,  -2.3389,\n",
       "            -5.7475],\n",
       "          [ -5.0144,  -0.4770,   4.1695, -11.5607,  -4.7276,   4.3123,   3.5008,\n",
       "            -1.8475],\n",
       "          [  1.4967,   0.9426,  -3.1709,   4.4125,   0.4389,  -3.3159,  -5.3993,\n",
       "            -4.3383],\n",
       "          [  4.3703,   3.3220,   8.6575,   4.0856,   7.0397,   3.6803,  -8.0119,\n",
       "            -1.7631],\n",
       "          [  5.8835,   2.2541,   2.5373, -12.4686,  10.5646,  -1.9911,   2.8541,\n",
       "             3.0369],\n",
       "          [  9.3080,   0.7189,  -0.4061,   5.3547,   4.2838, -12.6600,  -1.9116,\n",
       "           -10.2533],\n",
       "          [  1.3250,  11.1266,  -4.8665,   4.0605,   0.2316,  -6.4047,   5.0330,\n",
       "            -5.2616],\n",
       "          [ -4.0703,  -4.0169,  -0.9504,  -1.9907,  -2.4265,   0.6058, -10.1534,\n",
       "             0.3430]]]], grad_fn=<UnsafeViewBackward0>)"
      ]
     },
     "execution_count": 60,
     "metadata": {},
     "output_type": "execute_result"
    }
   ],
   "source": [
    "q @ k_t"
   ]
  },
  {
   "cell_type": "code",
   "execution_count": 71,
   "metadata": {},
   "outputs": [],
   "source": [
    "scale_product = (q@k_t)/torch.sqrt(torch.Tensor([k_t.shape[-1]]))"
   ]
  },
  {
   "cell_type": "code",
   "execution_count": 72,
   "metadata": {},
   "outputs": [
    {
     "data": {
      "text/plain": [
       "torch.Size([2, 3, 8, 8])"
      ]
     },
     "execution_count": 72,
     "metadata": {},
     "output_type": "execute_result"
    }
   ],
   "source": [
    "scale_product.shape"
   ]
  },
  {
   "cell_type": "code",
   "execution_count": 73,
   "metadata": {},
   "outputs": [
    {
     "data": {
      "text/plain": [
       "tensor([[[[ 0.4284, -0.1266, -0.1506, -0.0999, -0.9998, -0.7579, -1.0139,\n",
       "           -0.3657],\n",
       "          [ 2.5224,  1.2652,  0.1376,  1.0911, -2.1039, -1.0553,  0.9001,\n",
       "            1.2798],\n",
       "          [ 1.8668,  0.6027, -1.5116,  1.3909, -0.4851,  1.8078, -1.6001,\n",
       "            2.1298],\n",
       "          [ 0.0337, -0.0648,  2.7140, -0.6675,  1.6357, -0.3207,  0.0085,\n",
       "           -0.6849],\n",
       "          [ 1.3162,  2.7976, -2.3275,  2.2465, -1.3061,  1.4923,  0.8157,\n",
       "           -0.5788],\n",
       "          [-2.1125,  0.5396, -0.8780,  0.4969, -2.5769,  0.1561,  0.0433,\n",
       "           -0.6606],\n",
       "          [-0.8979,  1.2057, -0.4250,  0.4144,  0.2579,  0.2904,  3.5876,\n",
       "            0.6531],\n",
       "          [-0.2170, -1.4559,  0.0228,  1.5821, -0.1591,  3.3901, -0.8903,\n",
       "           -1.8835]],\n",
       "\n",
       "         [[-0.4415, -0.3851,  2.9998, -0.3855,  1.2980,  2.4487, -1.2799,\n",
       "            3.1355],\n",
       "          [-2.6728, -1.8026, -1.8119,  0.8125,  0.0617, -2.2673,  0.7963,\n",
       "           -1.3605],\n",
       "          [ 1.6338, -2.0747,  1.4839,  0.5899,  0.9625,  1.1860, -0.1977,\n",
       "            2.5050],\n",
       "          [ 1.6907,  2.1003,  1.4126,  1.1310,  1.2286,  0.6678, -3.2608,\n",
       "           -0.9676],\n",
       "          [-0.1856,  2.0260,  1.9791,  3.2800,  1.0066,  0.1468, -2.8359,\n",
       "            0.4566],\n",
       "          [ 0.6185,  0.4959,  0.6000,  0.0315,  0.4269,  1.5708,  0.4045,\n",
       "           -0.9376],\n",
       "          [-2.1198,  0.5783,  0.4457,  2.0927, -2.6868,  1.5923,  2.5815,\n",
       "           -0.1137],\n",
       "          [-0.6416,  0.3773, -3.7740,  0.2229, -0.5839,  1.6146, -1.3168,\n",
       "            0.8657]],\n",
       "\n",
       "         [[ 0.8936,  2.8928, -2.5247, -0.2620, -2.6047,  0.2030, -0.8269,\n",
       "           -2.0321],\n",
       "          [-1.7729, -0.1686,  1.4741, -4.0873, -1.6714,  1.5246,  1.2377,\n",
       "           -0.6532],\n",
       "          [ 0.5292,  0.3333, -1.1211,  1.5600,  0.1552, -1.1724, -1.9089,\n",
       "           -1.5338],\n",
       "          [ 1.5451,  1.1745,  3.0609,  1.4445,  2.4889,  1.3012, -2.8326,\n",
       "           -0.6233],\n",
       "          [ 2.0801,  0.7969,  0.8971, -4.4083,  3.7351, -0.7040,  1.0091,\n",
       "            1.0737],\n",
       "          [ 3.2909,  0.2542, -0.1436,  1.8932,  1.5145, -4.4760, -0.6758,\n",
       "           -3.6251],\n",
       "          [ 0.4685,  3.9338, -1.7206,  1.4356,  0.0819, -2.2644,  1.7794,\n",
       "           -1.8603],\n",
       "          [-1.4391, -1.4202, -0.3360, -0.7038, -0.8579,  0.2142, -3.5898,\n",
       "            0.1213]]],\n",
       "\n",
       "\n",
       "        [[[ 0.4284, -0.1266, -0.1506, -0.0999, -0.9998, -0.7579, -1.0139,\n",
       "           -0.3657],\n",
       "          [ 2.5224,  1.2652,  0.1376,  1.0911, -2.1039, -1.0553,  0.9001,\n",
       "            1.2798],\n",
       "          [ 1.8668,  0.6027, -1.5116,  1.3909, -0.4851,  1.8078, -1.6001,\n",
       "            2.1298],\n",
       "          [ 0.0337, -0.0648,  2.7140, -0.6675,  1.6357, -0.3207,  0.0085,\n",
       "           -0.6849],\n",
       "          [ 1.3162,  2.7976, -2.3275,  2.2465, -1.3061,  1.4923,  0.8157,\n",
       "           -0.5788],\n",
       "          [-2.1125,  0.5396, -0.8780,  0.4969, -2.5769,  0.1561,  0.0433,\n",
       "           -0.6606],\n",
       "          [-0.8979,  1.2057, -0.4250,  0.4144,  0.2579,  0.2904,  3.5876,\n",
       "            0.6531],\n",
       "          [-0.2170, -1.4559,  0.0228,  1.5821, -0.1591,  3.3901, -0.8903,\n",
       "           -1.8835]],\n",
       "\n",
       "         [[-0.4415, -0.3851,  2.9998, -0.3855,  1.2980,  2.4487, -1.2799,\n",
       "            3.1355],\n",
       "          [-2.6728, -1.8026, -1.8119,  0.8125,  0.0617, -2.2673,  0.7963,\n",
       "           -1.3605],\n",
       "          [ 1.6338, -2.0747,  1.4839,  0.5899,  0.9625,  1.1860, -0.1977,\n",
       "            2.5050],\n",
       "          [ 1.6907,  2.1003,  1.4126,  1.1310,  1.2286,  0.6678, -3.2608,\n",
       "           -0.9676],\n",
       "          [-0.1856,  2.0260,  1.9791,  3.2800,  1.0066,  0.1468, -2.8359,\n",
       "            0.4566],\n",
       "          [ 0.6185,  0.4959,  0.6000,  0.0315,  0.4269,  1.5708,  0.4045,\n",
       "           -0.9376],\n",
       "          [-2.1198,  0.5783,  0.4457,  2.0927, -2.6868,  1.5923,  2.5815,\n",
       "           -0.1137],\n",
       "          [-0.6416,  0.3773, -3.7740,  0.2229, -0.5839,  1.6146, -1.3168,\n",
       "            0.8657]],\n",
       "\n",
       "         [[ 0.8936,  2.8928, -2.5247, -0.2620, -2.6047,  0.2030, -0.8269,\n",
       "           -2.0321],\n",
       "          [-1.7729, -0.1686,  1.4741, -4.0873, -1.6714,  1.5246,  1.2377,\n",
       "           -0.6532],\n",
       "          [ 0.5292,  0.3333, -1.1211,  1.5600,  0.1552, -1.1724, -1.9089,\n",
       "           -1.5338],\n",
       "          [ 1.5451,  1.1745,  3.0609,  1.4445,  2.4889,  1.3012, -2.8326,\n",
       "           -0.6233],\n",
       "          [ 2.0801,  0.7969,  0.8971, -4.4083,  3.7351, -0.7040,  1.0091,\n",
       "            1.0737],\n",
       "          [ 3.2909,  0.2542, -0.1436,  1.8932,  1.5145, -4.4760, -0.6758,\n",
       "           -3.6251],\n",
       "          [ 0.4685,  3.9338, -1.7206,  1.4356,  0.0819, -2.2644,  1.7794,\n",
       "           -1.8603],\n",
       "          [-1.4391, -1.4202, -0.3360, -0.7038, -0.8579,  0.2142, -3.5898,\n",
       "            0.1213]]]], grad_fn=<DivBackward0>)"
      ]
     },
     "execution_count": 73,
     "metadata": {},
     "output_type": "execute_result"
    }
   ],
   "source": [
    "scale_product"
   ]
  },
  {
   "cell_type": "code",
   "execution_count": 74,
   "metadata": {},
   "outputs": [],
   "source": [
    "attention_output = nn.Softmax(dim=-1)(scale_product)"
   ]
  },
  {
   "cell_type": "code",
   "execution_count": 75,
   "metadata": {},
   "outputs": [
    {
     "data": {
      "text/plain": [
       "tensor([[[[2.5269e-01, 1.4506e-01, 1.4161e-01, 1.4898e-01, 6.0578e-02,\n",
       "           7.7155e-02, 5.9727e-02, 1.1421e-01],\n",
       "          [4.6742e-01, 1.3296e-01, 4.3053e-02, 1.1172e-01, 4.5766e-03,\n",
       "           1.3059e-02, 9.2291e-02, 1.3492e-01],\n",
       "          [2.3213e-01, 6.5578e-02, 7.9165e-03, 1.4423e-01, 2.2097e-02,\n",
       "           2.1884e-01, 7.2457e-03, 3.0197e-01],\n",
       "          [4.1459e-02, 3.7572e-02, 6.0490e-01, 2.0565e-02, 2.0578e-01,\n",
       "           2.9088e-02, 4.0430e-02, 2.0209e-02],\n",
       "          [1.0018e-01, 4.4070e-01, 2.6201e-03, 2.5398e-01, 7.2763e-03,\n",
       "           1.1946e-01, 6.0727e-02, 1.5059e-02],\n",
       "          [1.8046e-02, 2.5597e-01, 6.2019e-02, 2.4527e-01, 1.1342e-02,\n",
       "           1.7444e-01, 1.5583e-01, 7.7080e-02],\n",
       "          [8.7404e-03, 7.1631e-02, 1.4025e-02, 3.2466e-02, 2.7765e-02,\n",
       "           2.8680e-02, 7.7547e-01, 4.1222e-02],\n",
       "          [2.1176e-02, 6.1347e-03, 2.6915e-02, 1.2798e-01, 2.2439e-02,\n",
       "           7.8055e-01, 1.0800e-02, 4.0003e-03]],\n",
       "\n",
       "         [[1.0612e-02, 1.1228e-02, 3.3139e-01, 1.1223e-02, 6.0428e-02,\n",
       "           1.9098e-01, 4.5885e-03, 3.7955e-01],\n",
       "          [1.0976e-02, 2.6204e-02, 2.5961e-02, 3.5817e-01, 1.6904e-01,\n",
       "           1.6464e-02, 3.5241e-01, 4.0772e-02],\n",
       "          [1.6842e-01, 4.1288e-03, 1.4498e-01, 5.9297e-02, 8.6072e-02,\n",
       "           1.0763e-01, 2.6979e-02, 4.0249e-01],\n",
       "          [2.0402e-01, 3.0730e-01, 1.5449e-01, 1.1657e-01, 1.2853e-01,\n",
       "           7.3353e-02, 1.4429e-03, 1.4296e-02],\n",
       "          [1.7392e-02, 1.5879e-01, 1.5153e-01, 5.5646e-01, 5.7297e-02,\n",
       "           2.4249e-02, 1.2284e-03, 3.3056e-02],\n",
       "          [1.2727e-01, 1.1258e-01, 1.2493e-01, 7.0756e-02, 1.0507e-01,\n",
       "           3.2981e-01, 1.0274e-01, 2.6847e-02],\n",
       "          [3.9153e-03, 5.8145e-02, 5.0928e-02, 2.6437e-01, 2.2208e-03,\n",
       "           1.6030e-01, 4.3101e-01, 2.9107e-02],\n",
       "          [4.5836e-02, 1.2697e-01, 1.9991e-03, 1.0881e-01, 4.8557e-02,\n",
       "           4.3758e-01, 2.3333e-02, 2.0692e-01]],\n",
       "\n",
       "         [[1.0532e-01, 7.7758e-01, 3.4513e-03, 3.3163e-02, 3.1858e-03,\n",
       "           5.2795e-02, 1.8849e-02, 5.6482e-03],\n",
       "          [1.2005e-02, 5.9711e-02, 3.0868e-01, 1.1863e-03, 1.3286e-02,\n",
       "           3.2467e-01, 2.4369e-01, 3.6780e-02],\n",
       "          [1.6942e-01, 1.3928e-01, 3.2529e-02, 4.7498e-01, 1.1656e-01,\n",
       "           3.0904e-02, 1.4795e-02, 2.1529e-02],\n",
       "          [9.4094e-02, 6.4954e-02, 4.2840e-01, 8.5085e-02, 2.4179e-01,\n",
       "           7.3726e-02, 1.1812e-03, 1.0760e-02],\n",
       "          [1.3178e-01, 3.6524e-02, 4.0371e-02, 2.0043e-04, 6.8965e-01,\n",
       "           8.1424e-03, 4.5155e-02, 4.8170e-02],\n",
       "          [6.5919e-01, 3.1636e-02, 2.1254e-02, 1.6293e-01, 1.1157e-01,\n",
       "           2.7919e-04, 1.2482e-02, 6.5381e-04],\n",
       "          [2.4825e-02, 7.9411e-01, 2.7810e-03, 6.5298e-02, 1.6865e-02,\n",
       "           1.6144e-03, 9.2093e-02, 2.4184e-03],\n",
       "          [5.2611e-02, 5.3614e-02, 1.5854e-01, 1.0975e-01, 9.4076e-02,\n",
       "           2.7484e-01, 6.1241e-03, 2.5045e-01]]],\n",
       "\n",
       "\n",
       "        [[[2.5269e-01, 1.4506e-01, 1.4161e-01, 1.4898e-01, 6.0578e-02,\n",
       "           7.7155e-02, 5.9727e-02, 1.1421e-01],\n",
       "          [4.6742e-01, 1.3296e-01, 4.3053e-02, 1.1172e-01, 4.5766e-03,\n",
       "           1.3059e-02, 9.2291e-02, 1.3492e-01],\n",
       "          [2.3213e-01, 6.5578e-02, 7.9165e-03, 1.4423e-01, 2.2097e-02,\n",
       "           2.1884e-01, 7.2457e-03, 3.0197e-01],\n",
       "          [4.1459e-02, 3.7572e-02, 6.0490e-01, 2.0565e-02, 2.0578e-01,\n",
       "           2.9088e-02, 4.0430e-02, 2.0209e-02],\n",
       "          [1.0018e-01, 4.4070e-01, 2.6201e-03, 2.5398e-01, 7.2763e-03,\n",
       "           1.1946e-01, 6.0727e-02, 1.5059e-02],\n",
       "          [1.8046e-02, 2.5597e-01, 6.2019e-02, 2.4527e-01, 1.1342e-02,\n",
       "           1.7444e-01, 1.5583e-01, 7.7080e-02],\n",
       "          [8.7404e-03, 7.1631e-02, 1.4025e-02, 3.2466e-02, 2.7765e-02,\n",
       "           2.8680e-02, 7.7547e-01, 4.1222e-02],\n",
       "          [2.1176e-02, 6.1347e-03, 2.6915e-02, 1.2798e-01, 2.2439e-02,\n",
       "           7.8055e-01, 1.0800e-02, 4.0003e-03]],\n",
       "\n",
       "         [[1.0612e-02, 1.1228e-02, 3.3139e-01, 1.1223e-02, 6.0428e-02,\n",
       "           1.9098e-01, 4.5885e-03, 3.7955e-01],\n",
       "          [1.0976e-02, 2.6204e-02, 2.5961e-02, 3.5817e-01, 1.6904e-01,\n",
       "           1.6464e-02, 3.5241e-01, 4.0772e-02],\n",
       "          [1.6842e-01, 4.1288e-03, 1.4498e-01, 5.9297e-02, 8.6072e-02,\n",
       "           1.0763e-01, 2.6979e-02, 4.0249e-01],\n",
       "          [2.0402e-01, 3.0730e-01, 1.5449e-01, 1.1657e-01, 1.2853e-01,\n",
       "           7.3353e-02, 1.4429e-03, 1.4296e-02],\n",
       "          [1.7392e-02, 1.5879e-01, 1.5153e-01, 5.5646e-01, 5.7297e-02,\n",
       "           2.4249e-02, 1.2284e-03, 3.3056e-02],\n",
       "          [1.2727e-01, 1.1258e-01, 1.2493e-01, 7.0756e-02, 1.0507e-01,\n",
       "           3.2981e-01, 1.0274e-01, 2.6847e-02],\n",
       "          [3.9153e-03, 5.8145e-02, 5.0928e-02, 2.6437e-01, 2.2208e-03,\n",
       "           1.6030e-01, 4.3101e-01, 2.9107e-02],\n",
       "          [4.5836e-02, 1.2697e-01, 1.9991e-03, 1.0881e-01, 4.8557e-02,\n",
       "           4.3758e-01, 2.3333e-02, 2.0692e-01]],\n",
       "\n",
       "         [[1.0532e-01, 7.7758e-01, 3.4513e-03, 3.3163e-02, 3.1858e-03,\n",
       "           5.2795e-02, 1.8849e-02, 5.6482e-03],\n",
       "          [1.2005e-02, 5.9711e-02, 3.0868e-01, 1.1863e-03, 1.3286e-02,\n",
       "           3.2467e-01, 2.4369e-01, 3.6780e-02],\n",
       "          [1.6942e-01, 1.3928e-01, 3.2529e-02, 4.7498e-01, 1.1656e-01,\n",
       "           3.0904e-02, 1.4795e-02, 2.1529e-02],\n",
       "          [9.4094e-02, 6.4954e-02, 4.2840e-01, 8.5085e-02, 2.4179e-01,\n",
       "           7.3726e-02, 1.1812e-03, 1.0760e-02],\n",
       "          [1.3178e-01, 3.6524e-02, 4.0371e-02, 2.0043e-04, 6.8965e-01,\n",
       "           8.1424e-03, 4.5155e-02, 4.8170e-02],\n",
       "          [6.5919e-01, 3.1636e-02, 2.1254e-02, 1.6293e-01, 1.1157e-01,\n",
       "           2.7919e-04, 1.2482e-02, 6.5381e-04],\n",
       "          [2.4825e-02, 7.9411e-01, 2.7810e-03, 6.5298e-02, 1.6865e-02,\n",
       "           1.6144e-03, 9.2093e-02, 2.4184e-03],\n",
       "          [5.2611e-02, 5.3614e-02, 1.5854e-01, 1.0975e-01, 9.4076e-02,\n",
       "           2.7484e-01, 6.1241e-03, 2.5045e-01]]]], grad_fn=<SoftmaxBackward0>)"
      ]
     },
     "execution_count": 75,
     "metadata": {},
     "output_type": "execute_result"
    }
   ],
   "source": [
    "attention_output"
   ]
  },
  {
   "cell_type": "code",
   "execution_count": 76,
   "metadata": {},
   "outputs": [
    {
     "data": {
      "text/plain": [
       "torch.Size([2, 3, 8, 8])"
      ]
     },
     "execution_count": 76,
     "metadata": {},
     "output_type": "execute_result"
    }
   ],
   "source": [
    "attention_output.shape"
   ]
  },
  {
   "cell_type": "code",
   "execution_count": 77,
   "metadata": {},
   "outputs": [],
   "source": [
    "layer_output = attention_output @ v"
   ]
  },
  {
   "cell_type": "code",
   "execution_count": 78,
   "metadata": {},
   "outputs": [
    {
     "data": {
      "text/plain": [
       "torch.Size([2, 3, 8, 64])"
      ]
     },
     "execution_count": 78,
     "metadata": {},
     "output_type": "execute_result"
    }
   ],
   "source": [
    "layer_output.shape"
   ]
  },
  {
   "cell_type": "code",
   "execution_count": 79,
   "metadata": {},
   "outputs": [],
   "source": [
    "concat_output = layer_output.view(2,3,d_model)"
   ]
  },
  {
   "cell_type": "code",
   "execution_count": 80,
   "metadata": {},
   "outputs": [
    {
     "data": {
      "text/plain": [
       "torch.Size([2, 3, 512])"
      ]
     },
     "execution_count": 80,
     "metadata": {},
     "output_type": "execute_result"
    }
   ],
   "source": [
    "concat_output.size()"
   ]
  },
  {
   "cell_type": "code",
   "execution_count": 81,
   "metadata": {},
   "outputs": [],
   "source": [
    "w_concat = nn.Linear(d_model, d_model)"
   ]
  },
  {
   "cell_type": "code",
   "execution_count": 82,
   "metadata": {},
   "outputs": [],
   "source": [
    "final_output = w_concat(concat_output)"
   ]
  },
  {
   "cell_type": "code",
   "execution_count": 83,
   "metadata": {},
   "outputs": [
    {
     "data": {
      "text/plain": [
       "torch.Size([2, 3, 512])"
      ]
     },
     "execution_count": 83,
     "metadata": {},
     "output_type": "execute_result"
    }
   ],
   "source": [
    "final_output.shape"
   ]
  },
  {
   "cell_type": "markdown",
   "metadata": {},
   "source": [
    "### Layer Normalization experiment"
   ]
  },
  {
   "cell_type": "code",
   "execution_count": 96,
   "metadata": {},
   "outputs": [
    {
     "data": {
      "text/plain": [
       "torch.Size([3, 512])"
      ]
     },
     "execution_count": 96,
     "metadata": {},
     "output_type": "execute_result"
    }
   ],
   "source": [
    "final_output[-1].shape"
   ]
  },
  {
   "cell_type": "code",
   "execution_count": 106,
   "metadata": {},
   "outputs": [
    {
     "data": {
      "text/plain": [
       "torch.Size([2, 3, 1])"
      ]
     },
     "execution_count": 106,
     "metadata": {},
     "output_type": "execute_result"
    }
   ],
   "source": [
    "final_output.mean(-1, keepdim=True).shape"
   ]
  },
  {
   "cell_type": "code",
   "execution_count": 113,
   "metadata": {},
   "outputs": [
    {
     "data": {
      "text/plain": [
       "tensor([[[0.0712],\n",
       "         [0.0562],\n",
       "         [0.0983]],\n",
       "\n",
       "        [[0.0712],\n",
       "         [0.0562],\n",
       "         [0.0983]]], grad_fn=<VarBackward0>)"
      ]
     },
     "execution_count": 113,
     "metadata": {},
     "output_type": "execute_result"
    }
   ],
   "source": [
    "final_output.var(-1, keepdim=True)"
   ]
  },
  {
   "cell_type": "code",
   "execution_count": 111,
   "metadata": {},
   "outputs": [
    {
     "data": {
      "text/plain": [
       "tensor([[[0.0711],\n",
       "         [0.0561],\n",
       "         [0.0981]],\n",
       "\n",
       "        [[0.0711],\n",
       "         [0.0561],\n",
       "         [0.0981]]], grad_fn=<VarBackward0>)"
      ]
     },
     "execution_count": 111,
     "metadata": {},
     "output_type": "execute_result"
    }
   ],
   "source": [
    "final_output.var(-1, keepdim=True, unbiased=False)"
   ]
  },
  {
   "cell_type": "code",
   "execution_count": 117,
   "metadata": {},
   "outputs": [
    {
     "data": {
      "text/plain": [
       "torch.Size([512])"
      ]
     },
     "execution_count": 117,
     "metadata": {},
     "output_type": "execute_result"
    }
   ],
   "source": []
  },
  {
   "cell_type": "code",
   "execution_count": 118,
   "metadata": {},
   "outputs": [],
   "source": [
    "gamma = nn.Parameter(torch.ones(d_model))\n",
    "beta = nn.Parameter(torch.zeros(d_model))"
   ]
  },
  {
   "cell_type": "code",
   "execution_count": 120,
   "metadata": {},
   "outputs": [
    {
     "data": {
      "text/plain": [
       "torch.Size([512])"
      ]
     },
     "execution_count": 120,
     "metadata": {},
     "output_type": "execute_result"
    }
   ],
   "source": [
    "gamma.shape"
   ]
  },
  {
   "cell_type": "code",
   "execution_count": 121,
   "metadata": {},
   "outputs": [
    {
     "data": {
      "text/plain": [
       "torch.Size([512])"
      ]
     },
     "execution_count": 121,
     "metadata": {},
     "output_type": "execute_result"
    }
   ],
   "source": [
    "beta.shape"
   ]
  },
  {
   "cell_type": "code",
   "execution_count": 122,
   "metadata": {},
   "outputs": [],
   "source": [
    "eps=1e-12"
   ]
  },
  {
   "cell_type": "code",
   "execution_count": null,
   "metadata": {},
   "outputs": [],
   "source": []
  }
 ],
 "metadata": {
  "kernelspec": {
   "display_name": "python39",
   "language": "python",
   "name": "python3"
  },
  "language_info": {
   "codemirror_mode": {
    "name": "ipython",
    "version": 3
   },
   "file_extension": ".py",
   "mimetype": "text/x-python",
   "name": "python",
   "nbconvert_exporter": "python",
   "pygments_lexer": "ipython3",
   "version": "3.9.0"
  }
 },
 "nbformat": 4,
 "nbformat_minor": 2
}
