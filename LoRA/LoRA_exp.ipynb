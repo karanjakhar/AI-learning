{
 "cells": [
  {
   "cell_type": "markdown",
   "metadata": {},
   "source": [
    "## LoRA implementation with PyTorch"
   ]
  },
  {
   "cell_type": "code",
   "execution_count": 1,
   "metadata": {},
   "outputs": [],
   "source": [
    "import torch\n",
    "import torchvision.datasets as datasets\n",
    "import torchvision.transforms as transforms\n",
    "from torch import nn \n",
    "from tqdm import tqdm"
   ]
  },
  {
   "cell_type": "code",
   "execution_count": 2,
   "metadata": {},
   "outputs": [],
   "source": [
    "# Make torch determinitic\n",
    "_ = torch.manual_seed(0)"
   ]
  },
  {
   "cell_type": "code",
   "execution_count": 3,
   "metadata": {},
   "outputs": [],
   "source": [
    "# Getting MNIST dataset for training our simple model\n",
    "\n",
    "transforms = transforms.Compose([transforms.ToTensor(), transforms.Normalize((0.1307,), (0.3081,))])\n",
    "\n",
    "# Load the MNIST dataset\n",
    "mnist_trainset = datasets.MNIST(root='./data', train=True, download=True, transform=transforms)\n",
    "\n",
    "# Create a dataloader for the training\n",
    "train_loader = torch.utils.data.DataLoader(mnist_trainset, batch_size=10, shuffle=True)\n",
    "\n",
    "# Load the MNIST test dataset\n",
    "mnist_testset = datasets.MNIST(root='./data', train=False, download=True, transform=transforms)\n",
    "test_loader = torch.utils.data.DataLoader(mnist_testset, batch_size=10, shuffle=True)\n",
    "\n",
    "# Define the devie\n",
    "device = torch.device('cuda' if torch.cuda.is_available() else 'cpu')"
   ]
  },
  {
   "cell_type": "markdown",
   "metadata": {},
   "source": [
    "## Create the neural network to classify the digits, make the model little big to see the use of LoRA"
   ]
  },
  {
   "cell_type": "code",
   "execution_count": 37,
   "metadata": {},
   "outputs": [],
   "source": [
    "\n",
    "\n",
    "class ClassifyNet(nn.Module):\n",
    "    def __init__(self, hidden_size1 = 2000, hidden_size_2 = 4000):\n",
    "        super(ClassifyNet, self).__init__()\n",
    "        self.linear1 = nn.Linear(28*28, hidden_size1)\n",
    "        self.linear2 = nn.Linear(hidden_size1, hidden_size_2)\n",
    "        self.linear3 = nn.Linear(hidden_size_2, 10)\n",
    "        self.relu = nn.ReLU()\n",
    "\n",
    "    def forward(self, img):\n",
    "        x = img.view(-1, 28*28)\n",
    "        x = self.relu(self.linear1(x))\n",
    "        x = self.relu(self.linear2(x))\n",
    "        x = self.linear3(x)\n",
    "        return x\n",
    "    \n",
    "net = ClassifyNet().to(device)"
   ]
  },
  {
   "cell_type": "code",
   "execution_count": 5,
   "metadata": {},
   "outputs": [],
   "source": [
    "def train(train_loader, net, epochs = 5, total_iterations_limit = None):\n",
    "    loss_fn = nn.CrossEntropyLoss()\n",
    "    optimizer = torch.optim.Adam(net.parameters(), lr = 0.001)\n",
    "\n",
    "    total_iterations = 0 \n",
    "    \n",
    "    for epoch in range(epochs):\n",
    "        net.train()\n",
    "\n",
    "        loss_sum = 0\n",
    "        num_iterations = 0\n",
    "\n",
    "        data_iteration = tqdm(train_loader, desc = f'Epoch {epoch + 1}/{epochs}')\n",
    "        \n",
    "        if total_iterations_limit:\n",
    "            data_iteration.total = total_iterations_limit\n",
    "        \n",
    "        for data in data_iteration:\n",
    "\n",
    "            num_iterations += 1\n",
    "            total_iterations += 1\n",
    "            x, y = data\n",
    "            x = x.to(device)\n",
    "            y = y.to(device)\n",
    "\n",
    "            optimizer.zero_grad()\n",
    "            output = net(x)\n",
    "            loss_value = loss_fn(output, y)\n",
    "            loss_sum += loss_value.item()\n",
    "\n",
    "            avg_loss = loss_sum / num_iterations\n",
    "\n",
    "            data_iteration.set_postfix(loss = avg_loss)\n",
    "            loss_value.backward()\n",
    "            optimizer.step()\n",
    "\n",
    "            if total_iterations_limit and total_iterations >= total_iterations_limit:\n",
    "                return\n",
    "            \n",
    "\n"
   ]
  },
  {
   "cell_type": "code",
   "execution_count": 6,
   "metadata": {},
   "outputs": [
    {
     "name": "stderr",
     "output_type": "stream",
     "text": [
      "Epoch 1/1: 100%|██████████| 6000/6000 [01:05<00:00, 91.25it/s, loss=0.258]\n"
     ]
    }
   ],
   "source": [
    "train(train_loader, net, epochs = 1)"
   ]
  },
  {
   "cell_type": "markdown",
   "metadata": {},
   "source": [
    "### Keep a copy of original weights (clone them), so later we can confirm that fine tuning with LoRA doesn't alter the original weights"
   ]
  },
  {
   "cell_type": "code",
   "execution_count": 7,
   "metadata": {},
   "outputs": [],
   "source": [
    "original_weights = {}\n",
    "\n",
    "for name, param in net.named_parameters():\n",
    "    original_weights[name] = param.data.clone().detach()"
   ]
  },
  {
   "cell_type": "code",
   "execution_count": 8,
   "metadata": {},
   "outputs": [
    {
     "data": {
      "text/plain": [
       "{'linear1.weight': tensor([[ 0.0336,  0.0530,  0.0045,  ...,  0.0558,  0.0376,  0.0359],\n",
       "         [-0.0112, -0.0064, -0.0018,  ..., -0.0116,  0.0027, -0.0213],\n",
       "         [ 0.0004,  0.0355, -0.0127,  ...,  0.0002,  0.0218,  0.0286],\n",
       "         ...,\n",
       "         [ 0.0194,  0.0418, -0.0024,  ...,  0.0618,  0.0367,  0.0435],\n",
       "         [ 0.0189,  0.0790,  0.0262,  ...,  0.0780,  0.0164,  0.0352],\n",
       "         [-0.0082,  0.0326,  0.0090,  ...,  0.0148, -0.0193,  0.0184]],\n",
       "        device='cuda:0'),\n",
       " 'linear1.bias': tensor([-0.0314, -0.0183, -0.0179,  ..., -0.0011, -0.0660,  0.0099],\n",
       "        device='cuda:0'),\n",
       " 'linear2.weight': tensor([[-0.0509,  0.0160, -0.0297,  ..., -0.0505,  0.0004, -0.0112],\n",
       "         [-0.0161, -0.0294, -0.0108,  ...,  0.0063, -0.0274, -0.0154],\n",
       "         [ 0.0223,  0.0080,  0.0175,  ...,  0.0068, -0.0328,  0.0124],\n",
       "         ...,\n",
       "         [-0.0169, -0.0254, -0.0046,  ...,  0.0438,  0.0172,  0.0138],\n",
       "         [-0.0506,  0.0030,  0.0041,  ..., -0.0177,  0.0200, -0.0374],\n",
       "         [-0.0133, -0.0116, -0.0361,  ..., -0.0146,  0.0064,  0.0081]],\n",
       "        device='cuda:0'),\n",
       " 'linear2.bias': tensor([-0.0377, -0.1621, -0.0223,  ..., -0.0190, -0.0519, -0.0135],\n",
       "        device='cuda:0'),\n",
       " 'linear3.weight': tensor([[-0.0539,  0.0367, -0.0010,  ..., -0.1020,  0.0077, -0.0130],\n",
       "         [-0.0672,  0.0030,  0.0173,  ..., -0.0846, -0.0249, -0.0280],\n",
       "         [-0.0579, -0.0170,  0.0127,  ...,  0.0545, -0.0008,  0.0019],\n",
       "         ...,\n",
       "         [-0.0241, -0.0183, -0.0097,  ...,  0.0387, -0.0080,  0.0179],\n",
       "         [ 0.0325,  0.0075,  0.0075,  ..., -0.0187, -0.0251,  0.0130],\n",
       "         [-0.0271,  0.0103,  0.0042,  ..., -0.0143, -0.0140,  0.0067]],\n",
       "        device='cuda:0'),\n",
       " 'linear3.bias': tensor([ 0.0293, -0.0487, -0.0014, -0.0934, -0.0377, -0.0263, -0.0270, -0.0405,\n",
       "          0.2113,  0.0235], device='cuda:0')}"
      ]
     },
     "execution_count": 8,
     "metadata": {},
     "output_type": "execute_result"
    }
   ],
   "source": [
    "original_weights"
   ]
  },
  {
   "cell_type": "code",
   "execution_count": 9,
   "metadata": {},
   "outputs": [],
   "source": [
    "def test():\n",
    "\n",
    "    correct = 0\n",
    "    total = 0\n",
    "\n",
    "    wrong_counts = [0 for i in range(10)]\n",
    "\n",
    "    with torch.no_grad():\n",
    "        net.eval()\n",
    "        for data in tqdm(test_loader, desc=\"Testing\"):\n",
    "            images, labels = data\n",
    "            images = images.to(device)\n",
    "            labels = labels.to(device)\n",
    "            outputs = net(images)\n",
    "\n",
    "            for idx, i in enumerate(outputs):\n",
    "                if torch.argmax(i) == labels[idx]:\n",
    "                    correct += 1\n",
    "                else:\n",
    "                    wrong_counts[torch.argmax(i)] += 1\n",
    "                total += 1\n",
    "\n",
    "    print(f'Accuracy: {round(correct/total, 4)}')\n",
    "\n",
    "    for i in range(10):\n",
    "        print(f'Wrong count for {i}: {wrong_counts[i]}')"
   ]
  },
  {
   "cell_type": "code",
   "execution_count": 10,
   "metadata": {},
   "outputs": [
    {
     "name": "stderr",
     "output_type": "stream",
     "text": [
      "Testing: 100%|██████████| 1000/1000 [00:03<00:00, 303.30it/s]"
     ]
    },
    {
     "name": "stdout",
     "output_type": "stream",
     "text": [
      "Accuracy: 0.9541\n",
      "Wrong count for 0: 25\n",
      "Wrong count for 1: 14\n",
      "Wrong count for 2: 37\n",
      "Wrong count for 3: 53\n",
      "Wrong count for 4: 28\n",
      "Wrong count for 5: 9\n",
      "Wrong count for 6: 23\n",
      "Wrong count for 7: 38\n",
      "Wrong count for 8: 144\n",
      "Wrong count for 9: 88\n"
     ]
    },
    {
     "name": "stderr",
     "output_type": "stream",
     "text": [
      "\n"
     ]
    }
   ],
   "source": [
    "test()"
   ]
  },
  {
   "cell_type": "markdown",
   "metadata": {},
   "source": [
    "#### Let's check how many parameters are in the original network, before introducing the LoRA matrices."
   ]
  },
  {
   "cell_type": "code",
   "execution_count": 11,
   "metadata": {},
   "outputs": [
    {
     "name": "stdout",
     "output_type": "stream",
     "text": [
      "Layer 1: W: torch.Size([2000, 784]) + B: torch.Size([2000])\n",
      "Layer 2: W: torch.Size([4000, 2000]) + B: torch.Size([4000])\n",
      "Layer 3: W: torch.Size([10, 4000]) + B: torch.Size([10])\n",
      "Total parameters: 9,614,010\n"
     ]
    }
   ],
   "source": [
    "total_parameters_original = 0 \n",
    "for index, layer in enumerate([net.linear1, net.linear2, net.linear3]):\n",
    "    total_parameters_original += layer.weight.nelement() + layer.bias.nelement()\n",
    "    print(f\"Layer {index+1}: W: {layer.weight.shape} + B: {layer.bias.shape}\")\n",
    "\n",
    "print(f\"Total parameters: {total_parameters_original:,}\")\n",
    "    "
   ]
  },
  {
   "cell_type": "markdown",
   "metadata": {},
   "source": [
    "### LoRA parameterization as described in the paper.\n",
    "\n",
    "it uses PyTorch parameterization: https://pytorch.org/tutorials/intermediate/parametrizations.html\n"
   ]
  },
  {
   "cell_type": "code",
   "execution_count": 12,
   "metadata": {},
   "outputs": [],
   "source": [
    "class LoRAParameterization(nn.Module):\n",
    "    def __init__(self, feature_in, feature_out, rank=1, alpha=1, device='cpu'):\n",
    "        super(LoRAParameterization, self).__init__()\n",
    "\n",
    "        self.lora_A = nn.Parameter(torch.zeros((rank, feature_out)).to(device))\n",
    "        self.lora_B = nn.Parameter(torch.zeros((feature_in, rank)).to(device))\n",
    "        nn.init.normal_(self.lora_A, mean=0, std=1)\n",
    "\n",
    "        self.scale = alpha / rank \n",
    "        self.enabled = True\n",
    "\n",
    "    def forward(self, original_weights):\n",
    "        if self.enabled:\n",
    "            return original_weights + torch.matmul(self.lora_B, self.lora_A).view(original_weights.shape) * self.scale\n",
    "        else:\n",
    "            return original_weights\n"
   ]
  },
  {
   "cell_type": "markdown",
   "metadata": {},
   "source": [
    "Add the parameterization to our network"
   ]
  },
  {
   "cell_type": "code",
   "execution_count": 38,
   "metadata": {},
   "outputs": [],
   "source": [
    "from torch.nn.utils import parametrize \n",
    "\n",
    "def linear_layer_parameterization(layer, device, rank=1, lora_alpha=1):\n",
    "\n",
    "    feature_in, feature_out = layer.weight.shape\n",
    "\n",
    "    return LoRAParameterization(feature_in, feature_out, rank=rank, alpha=lora_alpha, device=device)\n"
   ]
  },
  {
   "cell_type": "code",
   "execution_count": 39,
   "metadata": {},
   "outputs": [
    {
     "data": {
      "text/plain": [
       "ParametrizedLinear(\n",
       "  in_features=4000, out_features=10, bias=True\n",
       "  (parametrizations): ModuleDict(\n",
       "    (weight): ParametrizationList(\n",
       "      (0): LoRAParameterization()\n",
       "    )\n",
       "  )\n",
       ")"
      ]
     },
     "execution_count": 39,
     "metadata": {},
     "output_type": "execute_result"
    }
   ],
   "source": [
    "parametrize.register_parametrization(net.linear1, \"weight\", linear_layer_parameterization(net.linear1, device))\n",
    "parametrize.register_parametrization(net.linear2, \"weight\", linear_layer_parameterization(net.linear2, device))\n",
    "parametrize.register_parametrization(net.linear3, \"weight\", linear_layer_parameterization(net.linear3, device))\n"
   ]
  },
  {
   "cell_type": "code",
   "execution_count": 20,
   "metadata": {},
   "outputs": [
    {
     "data": {
      "text/plain": [
       "ClassifyNet(\n",
       "  (linear1): ParametrizedLinear(\n",
       "    in_features=784, out_features=2000, bias=True\n",
       "    (parametrizations): ModuleDict(\n",
       "      (weight): ParametrizationList(\n",
       "        (0-1): 2 x LoRAParameterization()\n",
       "      )\n",
       "    )\n",
       "  )\n",
       "  (linear2): ParametrizedLinear(\n",
       "    in_features=2000, out_features=4000, bias=True\n",
       "    (parametrizations): ModuleDict(\n",
       "      (weight): ParametrizationList(\n",
       "        (0-1): 2 x LoRAParameterization()\n",
       "      )\n",
       "    )\n",
       "  )\n",
       "  (linear3): ParametrizedLinear(\n",
       "    in_features=4000, out_features=10, bias=True\n",
       "    (parametrizations): ModuleDict(\n",
       "      (weight): ParametrizationList(\n",
       "        (0-1): 2 x LoRAParameterization()\n",
       "      )\n",
       "    )\n",
       "  )\n",
       "  (relu): ReLU()\n",
       ")"
      ]
     },
     "execution_count": 20,
     "metadata": {},
     "output_type": "execute_result"
    }
   ],
   "source": [
    "net"
   ]
  },
  {
   "cell_type": "code",
   "execution_count": 21,
   "metadata": {},
   "outputs": [
    {
     "data": {
      "text/plain": [
       "<bound method Module.named_parameters of ClassifyNet(\n",
       "  (linear1): ParametrizedLinear(\n",
       "    in_features=784, out_features=2000, bias=True\n",
       "    (parametrizations): ModuleDict(\n",
       "      (weight): ParametrizationList(\n",
       "        (0-1): 2 x LoRAParameterization()\n",
       "      )\n",
       "    )\n",
       "  )\n",
       "  (linear2): ParametrizedLinear(\n",
       "    in_features=2000, out_features=4000, bias=True\n",
       "    (parametrizations): ModuleDict(\n",
       "      (weight): ParametrizationList(\n",
       "        (0-1): 2 x LoRAParameterization()\n",
       "      )\n",
       "    )\n",
       "  )\n",
       "  (linear3): ParametrizedLinear(\n",
       "    in_features=4000, out_features=10, bias=True\n",
       "    (parametrizations): ModuleDict(\n",
       "      (weight): ParametrizationList(\n",
       "        (0-1): 2 x LoRAParameterization()\n",
       "      )\n",
       "    )\n",
       "  )\n",
       "  (relu): ReLU()\n",
       ")>"
      ]
     },
     "execution_count": 21,
     "metadata": {},
     "output_type": "execute_result"
    }
   ],
   "source": [
    "net.named_parameters"
   ]
  },
  {
   "cell_type": "code",
   "execution_count": 40,
   "metadata": {},
   "outputs": [
    {
     "name": "stdout",
     "output_type": "stream",
     "text": [
      "Layer 1: W: torch.Size([2000, 784]) + B: torch.Size([2000]) + Lora_A: torch.Size([1, 784]) + Lora_B: torch.Size([2000, 1])\n",
      "Layer 2: W: torch.Size([4000, 2000]) + B: torch.Size([4000]) + Lora_A: torch.Size([1, 2000]) + Lora_B: torch.Size([4000, 1])\n",
      "Layer 3: W: torch.Size([10, 4000]) + B: torch.Size([10]) + Lora_A: torch.Size([1, 4000]) + Lora_B: torch.Size([10, 1])\n",
      "Total number of parameters (original): 9,614,010\n",
      "Total number of parameters (original + LoRA): 9,626,804\n",
      "Paramters introduced by LoRA: 12,794\n",
      "Parameter increment: 0.13%\n"
     ]
    }
   ],
   "source": [
    "total_parameters_lora = 0\n",
    "total_parameters_non_lora = 0\n",
    "\n",
    "for index, layer in enumerate([net.linear1, net.linear2, net.linear3]):\n",
    "    total_parameters_lora += layer.parametrizations['weight'][0].lora_A.nelement() + layer.parametrizations['weight'][0].lora_B.nelement()\n",
    "    total_parameters_non_lora += layer.weight.nelement() + layer.bias.nelement()\n",
    "\n",
    "    print(f'Layer {index+1}: W: {layer.weight.shape} + B: {layer.bias.shape} + Lora_A: {layer.parametrizations[\"weight\"][0].lora_A.shape} + Lora_B: {layer.parametrizations[\"weight\"][0].lora_B.shape}')\n",
    "    \n",
    "# Non-LoRA parameters count must match the original network\n",
    "assert total_parameters_non_lora == total_parameters_original\n",
    "print(f'Total number of parameters (original): {total_parameters_original:,}')\n",
    "print(f'Total number of parameters (original + LoRA): {total_parameters_lora + total_parameters_non_lora:,}')\n",
    "print(f'Paramters introduced by LoRA: {total_parameters_lora:,}')\n",
    "parameters_increment = (total_parameters_lora / total_parameters_non_lora) * 100\n",
    "print(f'Parameter increment: {parameters_increment:.2f}%')"
   ]
  },
  {
   "cell_type": "code",
   "execution_count": 23,
   "metadata": {},
   "outputs": [
    {
     "data": {
      "text/plain": [
       "7840"
      ]
     },
     "execution_count": 23,
     "metadata": {},
     "output_type": "execute_result"
    }
   ],
   "source": [
    "net.linear1.parametrizations['weight'][0].lora_A.nelement()"
   ]
  },
  {
   "cell_type": "markdown",
   "metadata": {},
   "source": [
    "Freeze all the parameters of the original network and only fine tuning the ones introduced by LoRA. Then fine tune the model on the digit 4 and only for 100 batches."
   ]
  },
  {
   "cell_type": "code",
   "execution_count": 19,
   "metadata": {},
   "outputs": [
    {
     "name": "stdout",
     "output_type": "stream",
     "text": [
      "Freezing non-LoRA parameter linear1.bias\n",
      "Freezing non-LoRA parameter linear1.parametrizations.weight.original\n",
      "LoRA paramerter linear1.parametrizations.weight.0.lora_A\n",
      "LoRA paramerter linear1.parametrizations.weight.0.lora_B\n",
      "Freezing non-LoRA parameter linear2.bias\n",
      "Freezing non-LoRA parameter linear2.parametrizations.weight.original\n",
      "LoRA paramerter linear2.parametrizations.weight.0.lora_A\n",
      "LoRA paramerter linear2.parametrizations.weight.0.lora_B\n",
      "Freezing non-LoRA parameter linear3.bias\n",
      "Freezing non-LoRA parameter linear3.parametrizations.weight.original\n",
      "LoRA paramerter linear3.parametrizations.weight.0.lora_A\n",
      "LoRA paramerter linear3.parametrizations.weight.0.lora_B\n"
     ]
    }
   ],
   "source": [
    "# Freeze the non-Lora parameters\n",
    "for name, param in net.named_parameters():\n",
    "    if 'lora' not in name:\n",
    "        print(f'Freezing non-LoRA parameter {name}')\n",
    "        param.requires_grad = False\n",
    "    else:\n",
    "        print(f'LoRA paramerter {name}')"
   ]
  },
  {
   "cell_type": "markdown",
   "metadata": {},
   "source": [
    "Training just on digit 4 labels"
   ]
  },
  {
   "cell_type": "code",
   "execution_count": 20,
   "metadata": {},
   "outputs": [],
   "source": [
    "# Load the MNIST dadtaset again, by keeping only the digit 4\n",
    "mnist_trainset = datasets.MNIST(root='./data', train=True, download=True, transform=transforms)\n",
    "exclude_indices = mnist_trainset.targets!= 4\n",
    "mnist_trainset.data = mnist_trainset.data[exclude_indices]\n",
    "mnist_trainset.targets = mnist_trainset.targets[exclude_indices]\n",
    "\n",
    "train_loader = torch.utils.data.DataLoader(mnist_trainset, batch_size=10, shuffle=True)\n",
    "\n"
   ]
  },
  {
   "cell_type": "code",
   "execution_count": 21,
   "metadata": {},
   "outputs": [
    {
     "name": "stderr",
     "output_type": "stream",
     "text": [
      "Epoch 1/1:  99%|█████████▉| 99/100 [00:00<00:00, 147.70it/s, loss=0.117]\n"
     ]
    }
   ],
   "source": [
    "train(train_loader, net, epochs=1, total_iterations_limit=100)"
   ]
  },
  {
   "cell_type": "markdown",
   "metadata": {},
   "source": [
    "Verify that the fine tuning did alter the original weights, but only the ones introduced by LoRA"
   ]
  },
  {
   "cell_type": "code",
   "execution_count": 22,
   "metadata": {},
   "outputs": [],
   "source": [
    "assert torch.all(net.linear1.parametrizations.weight.original == original_weights['linear1.weight'])\n",
    "assert torch.all(net.linear2.parametrizations.weight.original == original_weights['linear2.weight'])\n",
    "assert torch.all(net.linear3.parametrizations.weight.original == original_weights['linear3.weight'])\n"
   ]
  },
  {
   "cell_type": "code",
   "execution_count": 23,
   "metadata": {},
   "outputs": [],
   "source": [
    "def enable_disable_lora(enabled=True):\n",
    "    for layer in [net.linear1, net.linear2, net.linear3]:\n",
    "        layer.parametrizations['weight'][0].enabled = enabled"
   ]
  },
  {
   "cell_type": "code",
   "execution_count": 24,
   "metadata": {},
   "outputs": [
    {
     "data": {
      "text/plain": [
       "Parameter containing:\n",
       "tensor([[ 0.0015,  0.0210, -0.0276,  ...,  0.0237,  0.0055,  0.0039],\n",
       "        [ 0.0078,  0.0126,  0.0172,  ...,  0.0073,  0.0216, -0.0023],\n",
       "        [ 0.0124,  0.0475, -0.0007,  ...,  0.0122,  0.0337,  0.0406],\n",
       "        ...,\n",
       "        [-0.0175,  0.0460,  0.0443,  ...,  0.0133,  0.0394, -0.0132],\n",
       "        [ 0.0716,  0.0349,  0.0206,  ...,  0.0549,  0.0485,  0.0493],\n",
       "        [ 0.0216, -0.0021,  0.0491,  ...,  0.0584,  0.0319,  0.0423]],\n",
       "       device='cuda:0')"
      ]
     },
     "execution_count": 24,
     "metadata": {},
     "output_type": "execute_result"
    }
   ],
   "source": [
    "net.linear1.parametrizations.weight.original"
   ]
  },
  {
   "cell_type": "code",
   "execution_count": 25,
   "metadata": {},
   "outputs": [],
   "source": [
    "enable_disable_lora(enabled=True)\n",
    "\n",
    "assert torch.equal(net.linear1.weight, net.linear1.parametrizations.weight.original + \\\n",
    "                   net.linear1.parametrizations.weight[0].lora_B @ \\\n",
    "                    net.linear1.parametrizations.weight[0].lora_A * \\\n",
    "                    net.linear1.parametrizations.weight[0].scale \n",
    "                    )"
   ]
  },
  {
   "cell_type": "code",
   "execution_count": 26,
   "metadata": {},
   "outputs": [],
   "source": [
    "enable_disable_lora(enabled=False)\n",
    "\n",
    "assert torch.equal(net.linear1.weight, original_weights['linear1.weight'])"
   ]
  },
  {
   "cell_type": "code",
   "execution_count": 27,
   "metadata": {},
   "outputs": [
    {
     "name": "stderr",
     "output_type": "stream",
     "text": [
      "Testing: 100%|██████████| 1000/1000 [00:03<00:00, 274.37it/s]"
     ]
    },
    {
     "name": "stdout",
     "output_type": "stream",
     "text": [
      "Accuracy: 0.9693\n",
      "Wrong count for 0: 14\n",
      "Wrong count for 1: 20\n",
      "Wrong count for 2: 25\n",
      "Wrong count for 3: 42\n",
      "Wrong count for 4: 27\n",
      "Wrong count for 5: 14\n",
      "Wrong count for 6: 21\n",
      "Wrong count for 7: 32\n",
      "Wrong count for 8: 75\n",
      "Wrong count for 9: 37\n"
     ]
    },
    {
     "name": "stderr",
     "output_type": "stream",
     "text": [
      "\n"
     ]
    }
   ],
   "source": [
    "# Test with LoRA enabled\n",
    "enable_disable_lora(enabled=True)\n",
    "test()"
   ]
  },
  {
   "cell_type": "code",
   "execution_count": 28,
   "metadata": {},
   "outputs": [
    {
     "name": "stderr",
     "output_type": "stream",
     "text": [
      "Testing: 100%|██████████| 1000/1000 [00:02<00:00, 362.20it/s]"
     ]
    },
    {
     "name": "stdout",
     "output_type": "stream",
     "text": [
      "Accuracy: 0.9663\n",
      "Wrong count for 0: 13\n",
      "Wrong count for 1: 35\n",
      "Wrong count for 2: 36\n",
      "Wrong count for 3: 30\n",
      "Wrong count for 4: 43\n",
      "Wrong count for 5: 20\n",
      "Wrong count for 6: 16\n",
      "Wrong count for 7: 29\n",
      "Wrong count for 8: 90\n",
      "Wrong count for 9: 25\n"
     ]
    },
    {
     "name": "stderr",
     "output_type": "stream",
     "text": [
      "\n"
     ]
    }
   ],
   "source": [
    "# Test with LoRA disabled\n",
    "enable_disable_lora(enabled=False)\n",
    "test()"
   ]
  },
  {
   "cell_type": "code",
   "execution_count": null,
   "metadata": {},
   "outputs": [],
   "source": []
  }
 ],
 "metadata": {
  "kernelspec": {
   "display_name": "python39",
   "language": "python",
   "name": "python3"
  },
  "language_info": {
   "codemirror_mode": {
    "name": "ipython",
    "version": 3
   },
   "file_extension": ".py",
   "mimetype": "text/x-python",
   "name": "python",
   "nbconvert_exporter": "python",
   "pygments_lexer": "ipython3",
   "version": "3.9.0"
  }
 },
 "nbformat": 4,
 "nbformat_minor": 2
}
